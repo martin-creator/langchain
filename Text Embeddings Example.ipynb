{
 "cells": [
  {
   "cell_type": "markdown",
   "id": "c94a11d9",
   "metadata": {},
   "source": [
    "<font color='green'>\n",
    "Pip install is the command you use to install Python packages with the help of a tool called Pip package manager.\n",
    "<br><br>Installing LangChain package\n",
    "</font>"
   ]
  },
  {
   "cell_type": "code",
   "execution_count": 15,
   "id": "df91c263",
   "metadata": {},
   "outputs": [
    {
     "name": "stdout",
     "output_type": "stream",
     "text": [
      "Requirement already satisfied: langchain in c:\\users\\user\\anaconda3\\lib\\site-packages (0.0.325)\n",
      "Requirement already satisfied: langsmith<0.1.0,>=0.0.52 in c:\\users\\user\\anaconda3\\lib\\site-packages (from langchain) (0.0.53)\n",
      "Requirement already satisfied: PyYAML>=5.3 in c:\\users\\user\\anaconda3\\lib\\site-packages (from langchain) (6.0)\n",
      "Requirement already satisfied: numpy<2,>=1 in c:\\users\\user\\anaconda3\\lib\\site-packages (from langchain) (1.20.3)\n",
      "Requirement already satisfied: tenacity<9.0.0,>=8.1.0 in c:\\users\\user\\anaconda3\\lib\\site-packages (from langchain) (8.2.3)\n",
      "Requirement already satisfied: async-timeout<5.0.0,>=4.0.0 in c:\\users\\user\\anaconda3\\lib\\site-packages (from langchain) (4.0.3)\n",
      "Requirement already satisfied: pydantic<3,>=1 in c:\\users\\user\\anaconda3\\lib\\site-packages (from langchain) (2.4.2)\n",
      "Requirement already satisfied: aiohttp<4.0.0,>=3.8.3 in c:\\users\\user\\anaconda3\\lib\\site-packages (from langchain) (3.8.6)\n",
      "Requirement already satisfied: dataclasses-json<0.7,>=0.5.7 in c:\\users\\user\\anaconda3\\lib\\site-packages (from langchain) (0.6.1)\n",
      "Requirement already satisfied: SQLAlchemy<3,>=1.4 in c:\\users\\user\\anaconda3\\lib\\site-packages (from langchain) (1.4.22)\n",
      "Requirement already satisfied: anyio<4.0 in c:\\users\\user\\anaconda3\\lib\\site-packages (from langchain) (2.2.0)\n",
      "Requirement already satisfied: jsonpatch<2.0,>=1.33 in c:\\users\\user\\anaconda3\\lib\\site-packages (from langchain) (1.33)\n",
      "Requirement already satisfied: requests<3,>=2 in c:\\users\\user\\anaconda3\\lib\\site-packages (from langchain) (2.26.0)\n",
      "Requirement already satisfied: aiosignal>=1.1.2 in c:\\users\\user\\anaconda3\\lib\\site-packages (from aiohttp<4.0.0,>=3.8.3->langchain) (1.3.1)\n",
      "Requirement already satisfied: frozenlist>=1.1.1 in c:\\users\\user\\anaconda3\\lib\\site-packages (from aiohttp<4.0.0,>=3.8.3->langchain) (1.4.0)\n",
      "Requirement already satisfied: multidict<7.0,>=4.5 in c:\\users\\user\\anaconda3\\lib\\site-packages (from aiohttp<4.0.0,>=3.8.3->langchain) (6.0.4)\n",
      "Requirement already satisfied: attrs>=17.3.0 in c:\\users\\user\\anaconda3\\lib\\site-packages (from aiohttp<4.0.0,>=3.8.3->langchain) (21.2.0)\n",
      "Requirement already satisfied: yarl<2.0,>=1.0 in c:\\users\\user\\anaconda3\\lib\\site-packages (from aiohttp<4.0.0,>=3.8.3->langchain) (1.9.2)\n",
      "Requirement already satisfied: charset-normalizer<4.0,>=2.0 in c:\\users\\user\\anaconda3\\lib\\site-packages (from aiohttp<4.0.0,>=3.8.3->langchain) (2.0.4)\n",
      "Requirement already satisfied: sniffio>=1.1 in c:\\users\\user\\anaconda3\\lib\\site-packages (from anyio<4.0->langchain) (1.2.0)\n",
      "Requirement already satisfied: idna>=2.8 in c:\\users\\user\\anaconda3\\lib\\site-packages (from anyio<4.0->langchain) (3.2)\n",
      "Requirement already satisfied: marshmallow<4.0.0,>=3.18.0 in c:\\users\\user\\anaconda3\\lib\\site-packages (from dataclasses-json<0.7,>=0.5.7->langchain) (3.20.1)\n",
      "Requirement already satisfied: typing-inspect<1,>=0.4.0 in c:\\users\\user\\anaconda3\\lib\\site-packages (from dataclasses-json<0.7,>=0.5.7->langchain) (0.9.0)\n",
      "Requirement already satisfied: jsonpointer>=1.9 in c:\\users\\user\\anaconda3\\lib\\site-packages (from jsonpatch<2.0,>=1.33->langchain) (2.4)\n",
      "Requirement already satisfied: packaging>=17.0 in c:\\users\\user\\anaconda3\\lib\\site-packages (from marshmallow<4.0.0,>=3.18.0->dataclasses-json<0.7,>=0.5.7->langchain) (21.0)\n",
      "Requirement already satisfied: pyparsing>=2.0.2 in c:\\users\\user\\anaconda3\\lib\\site-packages (from packaging>=17.0->marshmallow<4.0.0,>=3.18.0->dataclasses-json<0.7,>=0.5.7->langchain) (3.0.4)\n",
      "Requirement already satisfied: annotated-types>=0.4.0 in c:\\users\\user\\anaconda3\\lib\\site-packages (from pydantic<3,>=1->langchain) (0.6.0)\n",
      "Requirement already satisfied: pydantic-core==2.10.1 in c:\\users\\user\\anaconda3\\lib\\site-packages (from pydantic<3,>=1->langchain) (2.10.1)\n",
      "Requirement already satisfied: typing-extensions>=4.6.1 in c:\\users\\user\\anaconda3\\lib\\site-packages (from pydantic<3,>=1->langchain) (4.8.0)\n",
      "Requirement already satisfied: certifi>=2017.4.17 in c:\\users\\user\\anaconda3\\lib\\site-packages (from requests<3,>=2->langchain) (2021.10.8)\n",
      "Requirement already satisfied: urllib3<1.27,>=1.21.1 in c:\\users\\user\\anaconda3\\lib\\site-packages (from requests<3,>=2->langchain) (1.26.7)\n",
      "Requirement already satisfied: greenlet!=0.4.17 in c:\\users\\user\\anaconda3\\lib\\site-packages (from SQLAlchemy<3,>=1.4->langchain) (1.1.1)\n",
      "Requirement already satisfied: mypy-extensions>=0.3.0 in c:\\users\\user\\anaconda3\\lib\\site-packages (from typing-inspect<1,>=0.4.0->dataclasses-json<0.7,>=0.5.7->langchain) (0.4.3)\n",
      "Requirement already satisfied: tiktoken in c:\\users\\user\\anaconda3\\lib\\site-packages (0.5.1)\n",
      "Requirement already satisfied: regex>=2022.1.18 in c:\\users\\user\\anaconda3\\lib\\site-packages (from tiktoken) (2023.10.3)\n",
      "Requirement already satisfied: requests>=2.26.0 in c:\\users\\user\\anaconda3\\lib\\site-packages (from tiktoken) (2.26.0)\n",
      "Requirement already satisfied: charset-normalizer~=2.0.0 in c:\\users\\user\\anaconda3\\lib\\site-packages (from requests>=2.26.0->tiktoken) (2.0.4)\n",
      "Requirement already satisfied: idna<4,>=2.5 in c:\\users\\user\\anaconda3\\lib\\site-packages (from requests>=2.26.0->tiktoken) (3.2)\n",
      "Requirement already satisfied: certifi>=2017.4.17 in c:\\users\\user\\anaconda3\\lib\\site-packages (from requests>=2.26.0->tiktoken) (2021.10.8)\n",
      "Requirement already satisfied: urllib3<1.27,>=1.21.1 in c:\\users\\user\\anaconda3\\lib\\site-packages (from requests>=2.26.0->tiktoken) (1.26.7)\n",
      "Collecting plotly\n",
      "  Downloading plotly-5.18.0-py3-none-any.whl (15.6 MB)\n",
      "Requirement already satisfied: packaging in c:\\users\\user\\anaconda3\\lib\\site-packages (from plotly) (21.0)\n",
      "Requirement already satisfied: tenacity>=6.2.0 in c:\\users\\user\\anaconda3\\lib\\site-packages (from plotly) (8.2.3)\n",
      "Requirement already satisfied: pyparsing>=2.0.2 in c:\\users\\user\\anaconda3\\lib\\site-packages (from packaging->plotly) (3.0.4)\n",
      "Installing collected packages: plotly\n",
      "Successfully installed plotly-5.18.0\n"
     ]
    }
   ],
   "source": [
    "!pip install langchain\n",
    "!pip install tiktoken\n",
    "!pip install plotly"
   ]
  },
  {
   "cell_type": "markdown",
   "id": "0724889c",
   "metadata": {},
   "source": [
    "<font color='green'>\n",
    "Installing Openai package, which includes the classes that we can use to communicate with Openai services\n",
    "<font>"
   ]
  },
  {
   "cell_type": "code",
   "execution_count": 2,
   "id": "78cddb3e",
   "metadata": {},
   "outputs": [
    {
     "name": "stdout",
     "output_type": "stream",
     "text": [
      "Requirement already satisfied: Openai in c:\\users\\user\\anaconda3\\lib\\site-packages (0.27.7)\n",
      "Requirement already satisfied: requests>=2.20 in c:\\users\\user\\anaconda3\\lib\\site-packages (from Openai) (2.28.1)\n",
      "Requirement already satisfied: tqdm in c:\\users\\user\\anaconda3\\lib\\site-packages (from Openai) (4.64.1)\n",
      "Requirement already satisfied: aiohttp in c:\\users\\user\\anaconda3\\lib\\site-packages (from Openai) (3.8.4)\n",
      "Requirement already satisfied: urllib3<1.27,>=1.21.1 in c:\\users\\user\\anaconda3\\lib\\site-packages (from requests>=2.20->Openai) (1.26.14)\n",
      "Requirement already satisfied: certifi>=2017.4.17 in c:\\users\\user\\anaconda3\\lib\\site-packages (from requests>=2.20->Openai) (2022.12.7)\n",
      "Requirement already satisfied: idna<4,>=2.5 in c:\\users\\user\\anaconda3\\lib\\site-packages (from requests>=2.20->Openai) (3.4)\n",
      "Requirement already satisfied: charset-normalizer<3,>=2 in c:\\users\\user\\anaconda3\\lib\\site-packages (from requests>=2.20->Openai) (2.0.4)\n",
      "Requirement already satisfied: frozenlist>=1.1.1 in c:\\users\\user\\anaconda3\\lib\\site-packages (from aiohttp->Openai) (1.3.3)\n",
      "Requirement already satisfied: multidict<7.0,>=4.5 in c:\\users\\user\\anaconda3\\lib\\site-packages (from aiohttp->Openai) (6.0.4)\n",
      "Requirement already satisfied: yarl<2.0,>=1.0 in c:\\users\\user\\anaconda3\\lib\\site-packages (from aiohttp->Openai) (1.9.2)\n",
      "Requirement already satisfied: aiosignal>=1.1.2 in c:\\users\\user\\anaconda3\\lib\\site-packages (from aiohttp->Openai) (1.3.1)\n",
      "Requirement already satisfied: async-timeout<5.0,>=4.0.0a3 in c:\\users\\user\\anaconda3\\lib\\site-packages (from aiohttp->Openai) (4.0.2)\n",
      "Requirement already satisfied: attrs>=17.3.0 in c:\\users\\user\\anaconda3\\lib\\site-packages (from aiohttp->Openai) (22.1.0)\n",
      "Requirement already satisfied: colorama in c:\\users\\user\\anaconda3\\lib\\site-packages (from tqdm->Openai) (0.4.6)\n"
     ]
    }
   ],
   "source": [
    "!pip install Openai"
   ]
  },
  {
   "cell_type": "markdown",
   "id": "e2691c0a",
   "metadata": {},
   "source": [
    "## Let's use OpenAI"
   ]
  },
  {
   "cell_type": "markdown",
   "id": "27c9a086",
   "metadata": {},
   "source": [
    "<font color='green'>\n",
    "Imports the Python built-in module called \"os.\"\n",
    "<br>This module provides a way to interact with the operating system, such as accessing environment variables, working with files and directories, executing shell commands, etc\n",
    "<br><br>\n",
    "The environ attribute is a dictionary-like object that contains the environment variables of the current operating system session\n",
    "<br><br>\n",
    "By accessing os.environ, you can retrieve and manipulate environment variables within your Python program. For example, you can retrieve the value of a specific environment variable using the syntax os.environ['VARIABLE_NAME'], where \"VARIABLE_NAME\" is the name of the environment variable you want to access.\n",
    "<font>"
   ]
  },
  {
   "cell_type": "code",
   "execution_count": 2,
   "id": "97b6053b",
   "metadata": {},
   "outputs": [],
   "source": [
    "import os\n",
    "os.environ[\"OPENAI_API_KEY\"] = \"\""
   ]
  },
  {
   "cell_type": "markdown",
   "id": "70817960",
   "metadata": {},
   "source": [
    "<font color='green'>\n",
    "LangChain has built a Wrapper around OpenAI APIs, using which we can get access to all the services OpenAI provides.\n",
    "<br>\n",
    "The code snippet below imports a specific class called 'OpenAIEmbeddings'(Wrapper around OpenAI large language models) from the 'embeddings' module of the 'langchain' library.\n",
    "\n",
    "<font>"
   ]
  },
  {
   "cell_type": "code",
   "execution_count": 3,
   "id": "9dd27ba4",
   "metadata": {},
   "outputs": [],
   "source": [
    "from langchain.embeddings import OpenAIEmbeddings"
   ]
  },
  {
   "cell_type": "markdown",
   "id": "efaf72e5",
   "metadata": {},
   "source": [
    "<font color='green'>\n",
    "Initialize the OpenAIEmbeddings object\n",
    "<font>"
   ]
  },
  {
   "cell_type": "code",
   "execution_count": 4,
   "id": "29fb326d",
   "metadata": {},
   "outputs": [],
   "source": [
    "embeddings = OpenAIEmbeddings()"
   ]
  },
  {
   "cell_type": "markdown",
   "id": "4071ed67",
   "metadata": {},
   "source": [
    "<font color='green'>\n",
    "Let's read our input data and get its embedding representation, so that we use it up for our future tasks\n",
    "<font>"
   ]
  },
  {
   "cell_type": "code",
   "execution_count": 8,
   "id": "e1e84150",
   "metadata": {},
   "outputs": [
    {
     "name": "stdout",
     "output_type": "stream",
     "text": [
      "         Words\n",
      "0     Elephant\n",
      "1         Lion\n",
      "2        Tiger\n",
      "3          Dog\n",
      "4      Cricket\n",
      "5      Footbal\n",
      "6       Tennis\n",
      "7   Basketball\n",
      "8        Apple\n",
      "9       Orange\n",
      "10      Banana\n"
     ]
    }
   ],
   "source": [
    "import pandas as pd\n",
    "df = pd.read_csv('Data.csv')\n",
    "print(df)"
   ]
  },
  {
   "cell_type": "markdown",
   "id": "66a45468",
   "metadata": {},
   "source": [
    "<font color='green'>\n",
    "    We can use \"apply\" to apply the get_embedding function to each row in the dataframe because our words are stored in a pandas dataframe. In order to save time and to save the calculated word embeddings in a new csv file called \"word_embeddings.csv\" rather than calling OpenAI once more to carry out these computations.\n",
    "    <font>"
   ]
  },
  {
   "cell_type": "code",
   "execution_count": 9,
   "id": "f74e4f24",
   "metadata": {},
   "outputs": [
    {
     "name": "stderr",
     "output_type": "stream",
     "text": [
      "Retrying langchain.embeddings.openai.embed_with_retry.<locals>._embed_with_retry in 4.0 seconds as it raised RateLimitError: Rate limit reached for text-embedding-ada-002 in organization org-m65woVAfJkLXM9KPRL1VqIHi on requests per min. Limit: 3 / min. Please try again in 20s. Visit https://platform.openai.com/account/rate-limits to learn more. You can increase your rate limit by adding a payment method to your account at https://platform.openai.com/account/billing..\n",
      "Retrying langchain.embeddings.openai.embed_with_retry.<locals>._embed_with_retry in 4.0 seconds as it raised RateLimitError: Rate limit reached for text-embedding-ada-002 in organization org-m65woVAfJkLXM9KPRL1VqIHi on requests per min. Limit: 3 / min. Please try again in 20s. Visit https://platform.openai.com/account/rate-limits to learn more. You can increase your rate limit by adding a payment method to your account at https://platform.openai.com/account/billing..\n",
      "Retrying langchain.embeddings.openai.embed_with_retry.<locals>._embed_with_retry in 4.0 seconds as it raised RateLimitError: Rate limit reached for text-embedding-ada-002 in organization org-m65woVAfJkLXM9KPRL1VqIHi on requests per min. Limit: 3 / min. Please try again in 20s. Visit https://platform.openai.com/account/rate-limits to learn more. You can increase your rate limit by adding a payment method to your account at https://platform.openai.com/account/billing..\n",
      "Retrying langchain.embeddings.openai.embed_with_retry.<locals>._embed_with_retry in 8.0 seconds as it raised RateLimitError: Rate limit reached for text-embedding-ada-002 in organization org-m65woVAfJkLXM9KPRL1VqIHi on requests per min. Limit: 3 / min. Please try again in 20s. Visit https://platform.openai.com/account/rate-limits to learn more. You can increase your rate limit by adding a payment method to your account at https://platform.openai.com/account/billing..\n",
      "Retrying langchain.embeddings.openai.embed_with_retry.<locals>._embed_with_retry in 4.0 seconds as it raised RateLimitError: Rate limit reached for text-embedding-ada-002 in organization org-m65woVAfJkLXM9KPRL1VqIHi on requests per min. Limit: 3 / min. Please try again in 20s. Visit https://platform.openai.com/account/rate-limits to learn more. You can increase your rate limit by adding a payment method to your account at https://platform.openai.com/account/billing..\n",
      "Retrying langchain.embeddings.openai.embed_with_retry.<locals>._embed_with_retry in 4.0 seconds as it raised RateLimitError: Rate limit reached for text-embedding-ada-002 in organization org-m65woVAfJkLXM9KPRL1VqIHi on requests per min. Limit: 3 / min. Please try again in 20s. Visit https://platform.openai.com/account/rate-limits to learn more. You can increase your rate limit by adding a payment method to your account at https://platform.openai.com/account/billing..\n",
      "Retrying langchain.embeddings.openai.embed_with_retry.<locals>._embed_with_retry in 4.0 seconds as it raised RateLimitError: Rate limit reached for text-embedding-ada-002 in organization org-m65woVAfJkLXM9KPRL1VqIHi on requests per min. Limit: 3 / min. Please try again in 20s. Visit https://platform.openai.com/account/rate-limits to learn more. You can increase your rate limit by adding a payment method to your account at https://platform.openai.com/account/billing..\n",
      "Retrying langchain.embeddings.openai.embed_with_retry.<locals>._embed_with_retry in 8.0 seconds as it raised RateLimitError: Rate limit reached for text-embedding-ada-002 in organization org-m65woVAfJkLXM9KPRL1VqIHi on requests per min. Limit: 3 / min. Please try again in 20s. Visit https://platform.openai.com/account/rate-limits to learn more. You can increase your rate limit by adding a payment method to your account at https://platform.openai.com/account/billing..\n",
      "Retrying langchain.embeddings.openai.embed_with_retry.<locals>._embed_with_retry in 4.0 seconds as it raised RateLimitError: Rate limit reached for text-embedding-ada-002 in organization org-m65woVAfJkLXM9KPRL1VqIHi on requests per min. Limit: 3 / min. Please try again in 20s. Visit https://platform.openai.com/account/rate-limits to learn more. You can increase your rate limit by adding a payment method to your account at https://platform.openai.com/account/billing..\n",
      "Retrying langchain.embeddings.openai.embed_with_retry.<locals>._embed_with_retry in 4.0 seconds as it raised RateLimitError: Rate limit reached for text-embedding-ada-002 in organization org-m65woVAfJkLXM9KPRL1VqIHi on requests per min. Limit: 3 / min. Please try again in 20s. Visit https://platform.openai.com/account/rate-limits to learn more. You can increase your rate limit by adding a payment method to your account at https://platform.openai.com/account/billing..\n",
      "Retrying langchain.embeddings.openai.embed_with_retry.<locals>._embed_with_retry in 4.0 seconds as it raised RateLimitError: Rate limit reached for text-embedding-ada-002 in organization org-m65woVAfJkLXM9KPRL1VqIHi on requests per min. Limit: 3 / min. Please try again in 20s. Visit https://platform.openai.com/account/rate-limits to learn more. You can increase your rate limit by adding a payment method to your account at https://platform.openai.com/account/billing..\n",
      "Retrying langchain.embeddings.openai.embed_with_retry.<locals>._embed_with_retry in 8.0 seconds as it raised RateLimitError: Rate limit reached for text-embedding-ada-002 in organization org-m65woVAfJkLXM9KPRL1VqIHi on requests per min. Limit: 3 / min. Please try again in 20s. Visit https://platform.openai.com/account/rate-limits to learn more. You can increase your rate limit by adding a payment method to your account at https://platform.openai.com/account/billing..\n",
      "Retrying langchain.embeddings.openai.embed_with_retry.<locals>._embed_with_retry in 4.0 seconds as it raised RateLimitError: Rate limit reached for text-embedding-ada-002 in organization org-m65woVAfJkLXM9KPRL1VqIHi on requests per min. Limit: 3 / min. Please try again in 20s. Visit https://platform.openai.com/account/rate-limits to learn more. You can increase your rate limit by adding a payment method to your account at https://platform.openai.com/account/billing..\n",
      "Retrying langchain.embeddings.openai.embed_with_retry.<locals>._embed_with_retry in 4.0 seconds as it raised RateLimitError: Rate limit reached for text-embedding-ada-002 in organization org-m65woVAfJkLXM9KPRL1VqIHi on requests per min. Limit: 3 / min. Please try again in 20s. Visit https://platform.openai.com/account/rate-limits to learn more. You can increase your rate limit by adding a payment method to your account at https://platform.openai.com/account/billing..\n",
      "Retrying langchain.embeddings.openai.embed_with_retry.<locals>._embed_with_retry in 4.0 seconds as it raised RateLimitError: Rate limit reached for text-embedding-ada-002 in organization org-m65woVAfJkLXM9KPRL1VqIHi on requests per min. Limit: 3 / min. Please try again in 20s. Visit https://platform.openai.com/account/rate-limits to learn more. You can increase your rate limit by adding a payment method to your account at https://platform.openai.com/account/billing..\n",
      "Retrying langchain.embeddings.openai.embed_with_retry.<locals>._embed_with_retry in 4.0 seconds as it raised RateLimitError: Rate limit reached for text-embedding-ada-002 in organization org-m65woVAfJkLXM9KPRL1VqIHi on requests per min. Limit: 3 / min. Please try again in 20s. Visit https://platform.openai.com/account/rate-limits to learn more. You can increase your rate limit by adding a payment method to your account at https://platform.openai.com/account/billing..\n",
      "Retrying langchain.embeddings.openai.embed_with_retry.<locals>._embed_with_retry in 4.0 seconds as it raised RateLimitError: Rate limit reached for text-embedding-ada-002 in organization org-m65woVAfJkLXM9KPRL1VqIHi on requests per min. Limit: 3 / min. Please try again in 20s. Visit https://platform.openai.com/account/rate-limits to learn more. You can increase your rate limit by adding a payment method to your account at https://platform.openai.com/account/billing..\n",
      "Retrying langchain.embeddings.openai.embed_with_retry.<locals>._embed_with_retry in 4.0 seconds as it raised RateLimitError: Rate limit reached for text-embedding-ada-002 in organization org-m65woVAfJkLXM9KPRL1VqIHi on requests per min. Limit: 3 / min. Please try again in 20s. Visit https://platform.openai.com/account/rate-limits to learn more. You can increase your rate limit by adding a payment method to your account at https://platform.openai.com/account/billing..\n",
      "Retrying langchain.embeddings.openai.embed_with_retry.<locals>._embed_with_retry in 8.0 seconds as it raised RateLimitError: Rate limit reached for text-embedding-ada-002 in organization org-m65woVAfJkLXM9KPRL1VqIHi on requests per min. Limit: 3 / min. Please try again in 20s. Visit https://platform.openai.com/account/rate-limits to learn more. You can increase your rate limit by adding a payment method to your account at https://platform.openai.com/account/billing..\n",
      "Retrying langchain.embeddings.openai.embed_with_retry.<locals>._embed_with_retry in 4.0 seconds as it raised RateLimitError: Rate limit reached for text-embedding-ada-002 in organization org-m65woVAfJkLXM9KPRL1VqIHi on requests per min. Limit: 3 / min. Please try again in 20s. Visit https://platform.openai.com/account/rate-limits to learn more. You can increase your rate limit by adding a payment method to your account at https://platform.openai.com/account/billing..\n",
      "Retrying langchain.embeddings.openai.embed_with_retry.<locals>._embed_with_retry in 4.0 seconds as it raised RateLimitError: Rate limit reached for text-embedding-ada-002 in organization org-m65woVAfJkLXM9KPRL1VqIHi on requests per min. Limit: 3 / min. Please try again in 20s. Visit https://platform.openai.com/account/rate-limits to learn more. You can increase your rate limit by adding a payment method to your account at https://platform.openai.com/account/billing..\n",
      "Retrying langchain.embeddings.openai.embed_with_retry.<locals>._embed_with_retry in 4.0 seconds as it raised RateLimitError: Rate limit reached for text-embedding-ada-002 in organization org-m65woVAfJkLXM9KPRL1VqIHi on requests per min. Limit: 3 / min. Please try again in 20s. Visit https://platform.openai.com/account/rate-limits to learn more. You can increase your rate limit by adding a payment method to your account at https://platform.openai.com/account/billing..\n",
      "Retrying langchain.embeddings.openai.embed_with_retry.<locals>._embed_with_retry in 8.0 seconds as it raised RateLimitError: Rate limit reached for text-embedding-ada-002 in organization org-m65woVAfJkLXM9KPRL1VqIHi on requests per min. Limit: 3 / min. Please try again in 20s. Visit https://platform.openai.com/account/rate-limits to learn more. You can increase your rate limit by adding a payment method to your account at https://platform.openai.com/account/billing..\n",
      "Retrying langchain.embeddings.openai.embed_with_retry.<locals>._embed_with_retry in 4.0 seconds as it raised RateLimitError: Rate limit reached for text-embedding-ada-002 in organization org-m65woVAfJkLXM9KPRL1VqIHi on requests per min. Limit: 3 / min. Please try again in 20s. Visit https://platform.openai.com/account/rate-limits to learn more. You can increase your rate limit by adding a payment method to your account at https://platform.openai.com/account/billing..\n",
      "Retrying langchain.embeddings.openai.embed_with_retry.<locals>._embed_with_retry in 4.0 seconds as it raised RateLimitError: Rate limit reached for text-embedding-ada-002 in organization org-m65woVAfJkLXM9KPRL1VqIHi on requests per min. Limit: 3 / min. Please try again in 20s. Visit https://platform.openai.com/account/rate-limits to learn more. You can increase your rate limit by adding a payment method to your account at https://platform.openai.com/account/billing..\n",
      "Retrying langchain.embeddings.openai.embed_with_retry.<locals>._embed_with_retry in 4.0 seconds as it raised RateLimitError: Rate limit reached for text-embedding-ada-002 in organization org-m65woVAfJkLXM9KPRL1VqIHi on requests per min. Limit: 3 / min. Please try again in 20s. Visit https://platform.openai.com/account/rate-limits to learn more. You can increase your rate limit by adding a payment method to your account at https://platform.openai.com/account/billing..\n",
      "Retrying langchain.embeddings.openai.embed_with_retry.<locals>._embed_with_retry in 8.0 seconds as it raised RateLimitError: Rate limit reached for text-embedding-ada-002 in organization org-m65woVAfJkLXM9KPRL1VqIHi on requests per min. Limit: 3 / min. Please try again in 20s. Visit https://platform.openai.com/account/rate-limits to learn more. You can increase your rate limit by adding a payment method to your account at https://platform.openai.com/account/billing..\n",
      "Retrying langchain.embeddings.openai.embed_with_retry.<locals>._embed_with_retry in 4.0 seconds as it raised RateLimitError: Rate limit reached for text-embedding-ada-002 in organization org-m65woVAfJkLXM9KPRL1VqIHi on requests per min. Limit: 3 / min. Please try again in 20s. Visit https://platform.openai.com/account/rate-limits to learn more. You can increase your rate limit by adding a payment method to your account at https://platform.openai.com/account/billing..\n",
      "Retrying langchain.embeddings.openai.embed_with_retry.<locals>._embed_with_retry in 4.0 seconds as it raised RateLimitError: Rate limit reached for text-embedding-ada-002 in organization org-m65woVAfJkLXM9KPRL1VqIHi on requests per min. Limit: 3 / min. Please try again in 20s. Visit https://platform.openai.com/account/rate-limits to learn more. You can increase your rate limit by adding a payment method to your account at https://platform.openai.com/account/billing..\n",
      "Retrying langchain.embeddings.openai.embed_with_retry.<locals>._embed_with_retry in 4.0 seconds as it raised RateLimitError: Rate limit reached for text-embedding-ada-002 in organization org-m65woVAfJkLXM9KPRL1VqIHi on requests per min. Limit: 3 / min. Please try again in 20s. Visit https://platform.openai.com/account/rate-limits to learn more. You can increase your rate limit by adding a payment method to your account at https://platform.openai.com/account/billing..\n",
      "Retrying langchain.embeddings.openai.embed_with_retry.<locals>._embed_with_retry in 8.0 seconds as it raised RateLimitError: Rate limit reached for text-embedding-ada-002 in organization org-m65woVAfJkLXM9KPRL1VqIHi on requests per min. Limit: 3 / min. Please try again in 20s. Visit https://platform.openai.com/account/rate-limits to learn more. You can increase your rate limit by adding a payment method to your account at https://platform.openai.com/account/billing..\n"
     ]
    }
   ],
   "source": [
    "df['embedding'] = df['Words'].apply(lambda x: embeddings.embed_query(x))\n",
    "df.to_csv('word_embeddings.csv')"
   ]
  },
  {
   "cell_type": "markdown",
   "id": "1ad628b8",
   "metadata": {},
   "source": [
    "<font color='green'>\n",
    "    Let's load the existing file, which contains the embeddings, so that we can save chargers by not hitting the API repeatedly\n",
    "    <font>"
   ]
  },
  {
   "cell_type": "code",
   "execution_count": 10,
   "id": "03337633",
   "metadata": {},
   "outputs": [
    {
     "name": "stdout",
     "output_type": "stream",
     "text": [
      "    Unnamed: 0       Words                                          embedding\n",
      "0            0    Elephant  [-0.017855134320424067, -0.008739002273680945,...\n",
      "1            1        Lion  [-0.001514446088710819, -0.010011047775235735,...\n",
      "2            2       Tiger  [-0.013417221828848814, -0.009594874215361255,...\n",
      "3            3         Dog  [-0.000993324388174965, -0.01511439587442286, ...\n",
      "4            4     Cricket  [0.003905495127549336, -0.007206682981601541, ...\n",
      "5            5     Footbal  [-0.011442505362835323, -0.008127146122306163,...\n",
      "6            6      Tennis  [-0.0229627046214536, 0.001620174408225852, 0....\n",
      "7            7  Basketball  [-0.012779986743709601, -0.013293189227440112,...\n",
      "8            8       Apple  [0.01447704940326135, -0.003934278727982006, -...\n",
      "9            9      Orange  [0.020745464248294754, -0.029286146214470166, ...\n",
      "10          10      Banana  [-0.01299976590369686, -0.019983216193919837, ...\n"
     ]
    }
   ],
   "source": [
    "new_df = pd.read_csv('word_embeddings.csv')\n",
    "print(new_df)"
   ]
  },
  {
   "cell_type": "markdown",
   "id": "b1fa8a90",
   "metadata": {},
   "source": [
    "<font color='green'>\n",
    "Let's get the embeddings for our text\n",
    "<font>"
   ]
  },
  {
   "cell_type": "code",
   "execution_count": 11,
   "id": "f4058c7c",
   "metadata": {},
   "outputs": [],
   "source": [
    "our_Text = \"Mango\""
   ]
  },
  {
   "cell_type": "code",
   "execution_count": 12,
   "id": "57d96d12",
   "metadata": {},
   "outputs": [],
   "source": [
    "text_embedding = embeddings.embed_query(our_Text)"
   ]
  },
  {
   "cell_type": "code",
   "execution_count": 13,
   "id": "3464758c",
   "metadata": {},
   "outputs": [
    {
     "name": "stdout",
     "output_type": "stream",
     "text": [
      "Our embedding is [-0.0034055178024402486, -0.019832508079084002, 0.010472126941037743, -0.016190586154939356, 0.00631905655247528, 0.008516989408102721, -0.025122882089670923, -0.014197111660624236, 0.0011077517098275833, -0.03307121898826951, -0.0011668530894996386, 0.003782488764672818, 0.0019183990702938399, 0.016842297734595148, -0.021621524677748073, 0.004792004222854953, 0.03268786055033911, -0.008191132686952277, 0.009385939422740509, -0.01575611114762046, -0.01596056997459406, 0.0027809598630040206, 0.0014703466607885716, -0.012401707120601064, 0.0045587936061688315, 0.009552062219656557, 0.024483948255378432, -0.013660407239818545, 0.011577482940025025, 0.0029918080283205424, 0.04779225825565868, -0.015027725645204474, -0.0043511398771931345, -0.0099226438435462, -0.017596240590382835, 0.004654633681312705, -0.010325171693489196, -0.006373365695559505, -0.006251968267043931, -0.018324624230153727, 0.014452685194341232, -0.008325309257814974, -0.015641102126125263, -0.018107387657816828, -0.015513315359266767, 0.023397759805758648, -0.0027538052914619082, -0.010242110760692445, -0.04201629639365456, 0.004153070388562463, 0.00436072411753816, 0.02206877743043027, -0.01468270137468653, 0.0016069188260762507, 0.001360130574373117, -0.007060219800254569, -0.006989937078482395, 0.02192821291820847, -0.0036067819602423833, 0.006079456131784958, 0.003964585140276815, 0.016203363900302657, -0.023525546572617146, 0.006881318326652672, -0.001141295736127939, -0.001578965412618295, -0.001570978739689639, -0.011660543872821776, 0.02329553039227185, 0.01819683746329523, 0.022132671745182065, 0.009794857076687702, 0.004440590613994083, 0.014286562397425186, 0.01654838910214315, 0.001091778363970271, -0.03171668112221452, -0.008427538671301773, -0.0049932686134877245, 0.0014775347246320215, 0.03194669543991472, -0.014772152111487477, -0.004038062298389815, 0.021391508497402775, 0.024241152467024737, 0.00595166936492646, -0.00149430667957454, 0.0019806951191373577, -0.0007068206706013862, -0.02399835854131614, -0.0003194669462500749, 0.002825685231404495, 0.01396709548027894, 0.005632202447780215, -0.024918423262697324, -0.014554914607828031, -0.0012251557436711693, 0.020842024468588686, 0.0038240194639018303, -0.036853707287281046, -0.013455948412844948, 0.011181343962763681, -0.026707437998716298, -0.0017602629463064486, -0.0199602948459425, 0.007890834250496082, 0.011072724745272683, -0.004063619651761514, 0.03227894289639191, -0.025046210029555822, -0.002733039825432084, 0.02048422152138489, 0.012286699030428415, -0.052137008328847614, -0.01674006832110835, -0.022107114391810366, 0.0017219269162488992, 0.01458047196119973, 0.0012571024353857938, -0.025110102481662525, 0.0014711453862890965, 0.023193300978785053, 0.028215321847646576, -0.013609292533075145, 0.02045866416801319, -0.01679118302785175, 0.0018545056868645908, -0.02849645273473527, -0.01195445343659632, -0.011673322549507625, 0.0397928047876716, 0.008989800445479165, -0.0004193003869621062, 0.010101545317148098, 0.008389202641244223, 0.01744289647015264, -0.03736485435471504, 0.01267005933100391, -0.005002852388171475, -0.019551377191995307, 0.005648176026468165, 0.01907856708594141, -0.017085093522948843, -0.01734066705666584, -0.01391598077353554, 0.02172375409123487, 0.04099399853349639, 0.024420053940626633, 0.012184469616941617, -0.009730963693258453, 0.022899392346333054, -0.024995095322812425, 0.022030442331695266, 0.0034598271783551106, 0.019883622785827403, 0.009622344475767456, -0.0015462201118184643, 0.008050567243407929, -0.005667344041496939, 0.004970905696456851, 0.012420875601291112, -0.01780069941735643, -0.012210026970313316, -0.012842571931924156, 0.004408643922279459, 0.02122538476916418, 0.01190333872985292, -0.009347603392682959, 0.00398375315530559, -0.011213290188817032, -0.0010422609918126031, 0.028547567441478672, -0.026068504164423807, 0.03455354548382808, 0.016931749402718646, 0.010631860865272139, 0.0052296741321759465, 0.009826803302741053, 0.008478653378045172, -0.008433927543983423, -0.024816193849210525, 0.019909180139199102, 0.01267644913500811, 0.0201136389661727, -0.018886886004331117, -0.00796750631061118, -0.0021643887129117675, -0.005347877124350694, 0.00791639160386778, -0.010037651933718849, 0.011628597646768424, 0.01401821018702234, 0.012216416774317515, 0.0052743995005764205, -0.6918887896879383, -0.009647901829139155, 0.004613102749253056, 0.00019337734011295882, 0.01725121538854234, 0.014695480051372379, 0.02711635565266349, -0.0001686186540341248, 0.006600187439563976, -0.020100861220809396, -0.005184948763775472, 0.021787646543341574, 0.012158912263569917, -0.006136960176871283, -0.009123976085019313, -0.020918696528703786, 0.02390890687319264, -0.009814024626055204, -0.01864409207862252, 0.00872783710775797, -0.02806197772741638, 0.013149260172384552, -0.01128996224893213, 0.00930926736262541, 0.0027090799230614342, -0.008516989408102721, 0.014848824171602578, -0.008114460626837178, -0.0009751728810042322, 0.035575839618696065, -0.03900052497050382, 0.014082103570451589, 0.020305320047782995, 0.021417065850774478, 0.04983684652539465, -0.009679848986515055, -0.023666112947484042, 0.016957306756090345, -0.024790636495838826, 0.031154417485392032, -0.01059991370789624, 0.0027074824720603845, 0.028317551261133375, -0.018989115417817917, -0.012785067421176558, 0.002646783757802598, 0.0329945487907995, -0.00736051870237204, 0.009865139332798603, -0.005859024191784686, 0.016216143508311055, -0.003042922735063942, 0.006542683394477652, -0.02369167030085574, -0.014465463871027083, -0.0063062778757894304, 0.036495904340077254, -0.015768888892983765, 0.0016188987772615758, 0.00860644014490367, -0.024598955414228532, 0.007775825694662159, -0.04303859052852255, -0.03386349880543729, 0.011488032203224077, 0.01188417118048542, 0.004945348343085151, 0.010331561497493395, 0.005335098447664844, -0.012459211631348662, 0.02369167030085574, 0.010906601948356636, -0.019806950725712303, -0.011392191662418928, 0.012241974127689216, 0.011858613827113722, 0.0039326384485621904, -0.007053830461911644, -0.009730963693258453, 0.003779294095501356, 0.0016628255365768437, 0.00930926736262541, 0.013468727089530797, -0.009628734279771655, 0.022784383324837856, -0.018107387657816828, -0.03192113994918812, -0.01003126212971465, -0.005239258372520971, -0.007092166491969193, 0.02926317333588626, 0.004456564192682033, -0.00038775302889391445, 0.007724710987918759, -0.008325309257814974, -0.003199461524465602, -0.024381718841891633, -0.013775415329991193, 0.00595486426692856, -0.006012368312014884, -0.003865550163130842, -0.009385939422740509, 0.006347808342187805, 0.008370034160554174, 0.009660680505825005, 0.008293362100439076, -0.03498802235379207, 0.016305593313789456, 0.03790156063816583, -0.0332501223245165, 0.0014791320592177526, -0.011123839452016082, -0.010574356354524542, -0.012222805646999166, 0.018235174424675326, -0.029467632162859858, 0.021557630362996277, -0.006261552507388956, 0.012900075511349206, -0.017596240590382835, 0.00074715333978727, 0.0034023231332687863, 0.01875909923747262, 0.008951464415421615, 0.004676996132682305, 0.012580608594202961, -0.011724437256251025, -0.021557630362996277, 0.005156196508401673, -0.0025892797127162735, 0.005545946612981367, 0.0031675148327509773, 0.0017922096380210732, -0.0026771332313468097, 0.04413755486086054, -0.0003126782742607172, 0.001979097900966945, -0.007788604371348008, 0.014273783720739336, -0.0266307659386012, -0.024190037760281335, -0.011379412985733079, -0.00860644014490367, 0.0266052085852295, -0.015768888892983765, -0.02880314097519567, -0.0266563232919729, -0.00796750631061118, -0.004478926644051633, -0.0012003971157999943, -4.679691714831258e-05, -0.004328777425823535, -0.02514843944304262, 0.018145722756551828, 0.025774593669326714, -0.018452410997012225, -0.006715195529736624, -0.0068046462665375725, 0.001500696017917465, -0.0007323780239730858, 0.015653881734133665, 0.020778132016481987, -0.00935399226536461, 0.0071943959054559916, 0.018337403838162125, -0.03716039552774145, -0.0032393950055242013, 0.002249047329540204, -0.006708806191393699, -0.01801793598969333, -0.00943066432547971, -0.0026771332313468097, 0.00431919318547851, 0.004363918553878985, -0.007724710987918759, -0.0011301143940278206, -0.006229605815674331, -0.02315496588005005, -0.004724916403084879, 0.003475800524212423, -0.0030860508852940034, 0.014069324893765738, -0.01755790362900274, 0.012235584323685017, 0.02711635565266349, 0.028138649787531476, -0.00039554002044743937, 0.043677522500169944, -0.015717774186240364, 0.0049836843731427, 0.004491705320737483, 0.016970084501453646, 0.007104945168655044, 0.0030972321109788035, -0.007379686717400814, -0.0029406933215771433, -0.006335029665501955, -0.002672341111174297, -0.009347603392682959, 0.02261826145924436, 0.029697648343205155, 0.014452685194341232, 0.008350866611186674, 0.010548799001152841, 0.0012083837887286505, -0.028956485095425866, 0.008197522490956476, 0.0017171349124917054, 0.03263674584359571, 0.02944207480948816, -0.0019647217732800455, -0.025774593669326714, -0.021698196737863173, 0.0002875202545354504, 0.018797436198852716, 0.016216143508311055, 0.013570956503017597, -0.00014615612914632204, -0.017187322936435642, 0.008095293077469678, 0.012382539571233564, -0.006581019424535201, 0.0010734089580267028, -0.0051306391550299734, 0.0030732722086081535, 0.019858065432455704, 0.007430801424144214, 0.03378682488267709, -0.003782488764672818, -0.007507473484259312, 0.009136754761705163, 0.0051657807487466975, -0.009500947512913157, 0.004942153906744326, 0.02206877743043027, 0.002563722359344574, 0.011130229256020282, -0.03066882777132974, 0.032534516430108906, -0.004421422598965309, 0.0003224619631502358, 0.016803962635860148, 0.018299066876782025, 0.0198452876870924, 0.01727677274191404, -0.014171554307252537, 0.015743331539612063, -0.000394941034529705, 0.0028592293741201693, 0.017647355297126233, -0.011270794699564629, 0.004846313831600452, -0.019040230124561314, 0.0011556717473995201, -0.0055267785979525915, -0.02461173502223693, 0.004504483997423332, 0.026809667412203097, 0.01801793598969333, 0.032560071920835515, 0.010395454880922644, 0.009571229769024057, -0.0015550053938323267, -0.004408643922279459, -0.0032777310355817505, 0.01135385563236138, 0.0025956690510591986, 0.004833535154914602, -0.007526641499288087, 0.010670196895329689, 0.019231911206171612, 0.005360655801036544, 0.00263879720128926, -0.020957033490083883, -0.006085845470127884, 0.0061816855452717576, -0.006836592958252197, 0.01602446242670076, -0.01721288028980734, -0.004954932583430175, -0.0008098487513810503, -0.025097324736299224, 0.014491021224398782, -0.00015274513431246333, -0.011673322549507625, -0.011449696173166527, -0.02403669364005114, 0.015717774186240364, -0.004475732207710807, 0.016458937434019653, 0.012395318247919413, 0.03210003956014492, -0.007922780476549431, 0.00012988329033014257, -0.018580197763870723, 0.01639504498191295, 0.01873354188410092, -0.01812016540318013, 0.013123702819012853, -0.008893959904674016, 0.01874632149210932, 0.0036099766294138457, -0.010849098368931586, 0.0035876139452136087, 0.025135659835034223, 0.0022809940212548284, -0.019628049252110407, -0.028240879201018275, 0.01658672420087815, 0.00036858501386513977, -0.013002304924836006, -0.016292815568426156, 0.002784154532175483, 0.0010606302813408529, 0.0026579652163180346, 0.014209890337310087, -0.021583187716367976, -0.017596240590382835, 0.03560139883471286, -0.024586177668865228, -0.005085913786629499, -0.021417065850774478, -0.005092303124972424, 0.001707550904977318, 0.05699290546947054, 0.0037760994263298935, -0.008516989408102721, 0.007590534882717336, 0.02121260702380088, 0.00199666846499467, -0.03350569585823349, 0.0002961059424856705, 0.01744289647015264, -0.00033783632308981363, -0.002370444758055777, 7.18800636338626e-05, 0.008791730491187219, 0.007277457303914016, 0.012452821827344463, -0.021902655564836768, -0.004303220072451835, -0.010401844684926843, -0.004619492087595981, -0.016867855087966847, 0.011698879902879324, 0.005839856176755912, 0.016292815568426156, 0.010114323993833947, 0.009028136475536713, 0.02195377027158017, 0.016650618515629947, 0.013404833706101548, 0.006092234808470809, -0.022746048226102857, -0.007545809514316861, 0.01870798453072922, -0.003677064682014557, -0.002646783757802598, -0.006868539649966822, -0.005283983740921445, 0.0099482011969179, -0.008810898971877267, 0.01066380709132549, 0.0007383679995657483, -0.004654633681312705, -0.011066335872591032, -0.0018257536643214289, -0.0032138376521525015, 0.0101207128665156, -0.017072313914940445, -0.009992926099657101, 0.019806950725712303, -0.016407822727276256, -0.018350181583525426, 0.01190333872985292, -0.00925815265588201, -0.011475253526538227, 0.0018992310552650652, 0.015500536682580918, 0.01652283174877145, -0.01054241012847119, 0.005814298823384212, -0.0031755016220949522, -0.023602218632732246, -0.008970631964789116, -0.01795404353758663, 0.004574766719195506, 0.004756863094799503, -0.010280446790749995, -0.011781941766998622, 0.004130707937192862, -0.029825435110063653, -0.023627775986103945, -0.016011684681337457, -0.0013697145818875045, -0.008753394461129669, -0.021340393790659377, 0.0076735962811753594, 0.0331478929110297, 0.0101207128665156, 0.010887434398989135, 0.011865002699795372, 0.0265540938784861, 0.025480685036874718, -0.008248637197699875, -0.011737215932936874, 0.004073203892106539, -0.00602834142504156, -0.024765079142467127, 0.008421148867297574, 0.030515483651099542, -0.03138443366573733, -0.012791457225180757, -0.002603655840403173, 0.014963832261775225, -0.010312393016803346, 0.016267258215054453, 0.0055076105829238164, -0.012938411541406757, -0.008996189318160815, 0.025582914450361514, 0.0036578966669857825, -0.0264518644649993, -0.005903749560185161, 0.017417339116780936, -0.01812016540318013, -0.002126052682854218, 0.001034274318883947, 0.007839719543752682, 0.00930926736262541, 0.011373024113051428, 0.008823677648563117, -0.034936907647048675, -0.0052296741321759465, 0.03350569585823349, 0.00801862101735458, -0.00037936702231882553, 0.008171965137584777, 0.013392055029415699, 0.02913538656902776, -0.00787805557381023, 0.009929032716227852, -0.015551651389324317, -0.016254478607046055, 0.008395591513925875, -0.03601031648866006, 0.006817424943223423, -0.0048495082679412774, 0.0025765010360304236, -0.009008967994846665, 0.009021746671532514, -0.0266052085852295, -0.006855760973280972, 0.0017331082583490177, 0.009794857076687702, 0.018184059717931925, -0.003718595381243569, -0.021787646543341574, -0.03475800431080168, -0.0037984621105301305, -0.009622344475767456, 0.002720261148746234, 0.0038911075165025417, -0.02872646891508057, -0.026324077698140803, 0.025519020135609718, 0.01003126212971465, -0.014899938878345976, -0.01812016540318013, -0.03181891053570132, 0.003031741509379142, 0.009092029858965962, -0.020075303867437697, 0.015692216832868665, -0.006513931139103852, 0.02058645093487169, 0.010408233557608493, -0.01071492179806889, -0.019973074453950898, -0.023091071565298254, -0.04454647251480773, -0.0076927642962041345, 0.03483467823356187, -0.0026020583894021234, 0.03061771306458634, -0.006120987063844608, 0.02397280118794444, 0.02192821291820847, -0.015602766096067715, -0.00925815265588201, 0.002547749013487262, -0.00794194895723948, -0.004680191034684405, 0.01800515824433003, 0.024688407082352027, 0.025710701217220012, 0.005239258372520971, 0.013136481495698703, -0.016970084501453646, 0.03207448406941832, 0.002423156915800226, -0.014299341074111035, -0.009008967994846665, -0.02549346278223802, -0.009890696686170302, 0.024688407082352027, -0.017698470003869635, -0.0004396664029301793, 0.01575611114762046, -0.009456221678851408, 0.03736485435471504, -0.011468863722534028, 0.004836729591255428, -0.01575611114762046, 0.022260458512040563, -0.0012507130970428688, 0.009641512956457505, -0.00317230695292349, -0.021787646543341574, -0.013494284442902496, -0.014222669013995937, 0.022912170091696354, -0.007162449213741367, 0.0071943959054559916, -0.0031850856296093398, 0.022119892137173667, -0.011066335872591032, -0.005363850237377369, 0.00029750359569627054, 0.05448828483904398, 0.0007639253529374479, -0.011526368233281625, 0.012369760894547714, -0.019806950725712303, -0.023487211473882146, -0.021174270062420782, -0.012925632864720905, -0.04055952538882259, 0.0018928417169221403, 0.01528329917892147, -0.016356708020532854, 0.014708258728058228, -8.291165925454758e-05, 0.0027186639305758213, 0.011226068865502882, 0.011545535782649127, 0.03797823083563583, -0.003078064095950029, 0.028982042448797565, 0.017736805102604634, -0.0198197303337207, -0.022183786451925466, 0.02857312479485037, 0.003514136554269972, -0.01200556814333972, 0.026528536525114402, 0.02433060413514823, 0.019525819838623608, -0.024816193849210525, 0.023384982060395347, 0.014951053585089375, 0.006204048462302631, -0.007034662446882869, 0.016561166847506453, 0.01537274991572242, 0.013034252082211904, -0.012286699030428415, -0.014823266818230877, -0.018247952170038627, 0.04150514932622057, -0.01587111830647056, 0.0017618602808921798, -0.010293225467435845, -0.04245076953832836, -0.010510462971095293, 0.01652283174877145, -0.007443580100830063, 0.01055518880515704, -0.007449969439172988, -0.010344340174179244, -0.023576661279360547, -0.00035101433342209627, -0.014439906517655383, 0.002749013171289396, -0.007903612927181931, 0.005903749560185161, -0.012165302067574116, 0.021583187716367976, -0.00798667385997868, 0.007494694807573463, 0.0017410949312776738, 0.014963832261775225, 0.02995322187692215, 0.021033705550198983, -0.022426580377634064, -0.002119663344511293, -0.010210163603316547, -0.004114734358504913, 0.0019822925701384075, 0.00795472763392533, -0.0056002557560655905, -0.024305046781776533, -0.0018305456680786224, -0.011187732835445332, 0.007181617228770142, 0.013468727089530797, -0.03491134843103188, 0.002003057803337595, -0.005868607966468437, -0.010037651933718849, -0.0400739338121152, -0.01060630351190044, -0.010823541015559886, -0.012286699030428415, -0.02926317333588626, 0.0200625242594293, -0.019704721312225504, 0.011174954158759482, -0.00787805557381023, -0.005529973034293417, -0.013954316803593091, 0.0046961641477110795, -0.02521233189514932, 0.025634029157104915, 0.017366224410037538, -0.004967711260116026, -0.016343930275169553, 0.006408507289276229, -0.007072998476940419, -0.012382539571233564, 0.009021746671532514, -0.01938525532640181, -0.017762362455976333, -0.00016622265215552798, 0.019794172980349002, 0.010203774730634897, -0.007507473484259312, -0.0010183009730266347, 0.02194099066357177, -0.00932204603931126, 0.0035301099001272844, -0.005606645094408516, -0.0011644570294133826, 0.013622071209760995, -0.01725121538854234, -0.022886612738324656, 0.008708669558390468, 0.009539283542970706, -0.013660407239818545, -0.0011692490331705763, 0.00595486426692856, 0.005293567515605196, -0.03524359588750907, -0.02531456130863612, -0.015181069765434672, 0.038106019465139425, -0.013468727089530797, -0.005197727440461322, -0.018260731778047025, -0.011136618128701932, -0.006520320477446777, 0.016267258215054453, -0.009187869468448562, -0.020254205341039597, -0.0014080506119450538, 0.02729525712626539, 0.010344340174179244, 0.012152523390888266, -0.011034388715215135, -0.017033978816205442, -0.02076535240847359, -0.009890696686170302, -0.03008100864378065, -0.012241974127689216, -0.015168291088748823, 0.015129955058691273, 0.02521233189514932, -0.007590534882717336, -0.013008694728840205, 0.009034525348218365, -0.029186501275771163, -0.01732788744865744, -0.010695754248701388, -0.0033799604490685493, -0.012963968894778456, -0.011871392503799571, 0.005699290733211564, 0.020151975927552798, -0.0031675148327509773, 0.01647171704202805, -0.035499169421226065, -0.01337927635272985, -0.001055838277583659, -0.014810488141545028, 0.03371015468520709, -0.015066061675262024, -0.008862013678620667, -0.015066061675262024, 0.014478242547712933, 0.006366976357216579, 0.008970631964789116, 0.00860644014490367, -0.0008298154337026906, 0.0061816855452717576, -0.03486023372428848, 0.031844466026427924, 0.013954316803593091, -0.006906875680024371, 0.02928873068925796, -0.01397987415696479, -0.01790292883084323, 0.004552404267825907, 0.01059352483521459, -0.005236063470518871, -0.012261141677056716, 0.005223284793833022, 0.002172375269425105, 0.009660680505825005, -0.023947243834572737, -0.004897428538343851, 0.007571366867688561, -0.034579104699844876, -0.010459348264351893, -0.01199917927065807, -0.004664217455996455, -0.010766036504812289, -0.027014126239176695, -0.02172375409123487, 0.003491773870069735, 0.010887434398989135, -0.028010863020672978, -0.010210163603316547, 0.03580585766168646, 0.014554914607828031, -0.021800426151349972, -0.01868242717735752, 0.02393446422656434, -0.02384501442108594, -0.008734226911762169, -0.00937316074605466, -0.024483948255378432, -0.0024087807881133265, 0.012350592413857664, 0.01396709548027894, -0.021455400949509477, 0.0011213289955986395, 0.026324077698140803, 0.0038847181781596165, 0.006398923048931204, -0.01126440489556043, 0.014209890337310087, -0.017519568530267735, -0.015768888892983765, -0.004894233636341751, -0.007149670537055518, -0.008203911363638128, -0.008197522490956476, 0.0133153829693006, 0.0006077858680783909, 0.009034525348218365, 0.2179531393561759, -0.0025142048707715876, 0.011724437256251025, 0.034400201363597886, 0.016331150667161155, 0.029620976283090055, 0.013673185916504394, -0.0014000639390163976, 0.014503799901084632, 0.018925222965711214, -0.0023672500888843144, 0.003386349787411474, -0.02057367132686329, 0.006900486341681446, -0.00932204603931126, -0.004488510884396658, -0.049887961232138046, -0.013040640954893554, -0.004095566343476138, -0.037339298863988436, 0.017609018335746136, -0.017813477162719735, -0.013392055029415699, 0.006836592958252197, 0.0199986318073226, -0.00567692781618069, -0.012318646187804315, -0.0018033909801211917, 0.004827145816571677, 0.007641649589460735, 0.006702416853050774, -0.011558314459334976, 0.009647901829139155, 0.004328777425823535, -0.01716176558306394, 0.0014088493374455786, -0.030183238057267445, -0.0061976591239597065, 0.03624033080636026, 0.03749264298421864, -0.020675902602995188, -0.006868539649966822, 0.01265728065431806, 0.0013297812172442238, -0.005533167936295516, 0.024279489428404834, -0.01593501262122236, -0.009149533438391012, 0.001266686442900181, 0.005763184116640813, -0.024880086301317227, 0.004951737681428076, 0.009398718099426358, 0.015641102126125263, -0.007239121273856466, 0.009897086490174501, -0.008433927543983423, -0.012523105014777911, -0.013149260172384552, 0.0013840905931590854, -0.004156265290564562, 0.009845971783431101, -0.01059352483521459, 0.010791593858183988, -0.00466102301965563, -0.007564977529345636, -0.032202268973631716, 0.005868607966468437, -0.014848824171602578, -0.016254478607046055, 0.0015390320479750144, -0.03215115426688832, 0.020854804076597084, 0.0015685827960187015, -0.02376834236097084, -0.026886339472318197, 0.022094334783801968, -0.0006417292571290091, 0.027525273306610688, 0.0100184834530288, -0.007794993709690933, 0.0011277183339415643, -0.015206627118806371, 0.009730963693258453, -0.02852201008810697, -0.006469205770703378, 0.006734363544765399, 0.004766446869483253, 0.006900486341681446, -0.01671451096773665, -0.005673733379839865, -0.017033978816205442, 0.00794194895723948, -0.0024678822842007005, 4.2054830096923e-05, 0.03841270770559982, -0.00634141900384488, 0.011443306369162328, 0.0006289505804431593, -0.015717774186240364, -0.03394016900290729, -0.026298520344769104, 0.006363781920875754, -0.018797436198852716, -0.024253932075033135, 0.009392328295422159, -0.004549209365823807, -0.002049380622739119, 0.016190586154939356, -0.018337403838162125, -0.024023915894687838, 0.0007838920352590882, 0.006386144372245354, -0.016982864109462044, 0.0015805627472040263, -0.0199219597472075, -0.0011149396572557146, -0.019116902184676415, -0.006114597725501682, -0.007481916130887612, 0.022452137731005763, -0.02536567601537952, -0.02521233189514932, 0.012216416774317515, -0.02788307625381448, 0.0013098145931302427, 0.005315930432636069, 0.0064244804023029034, 0.023065514211926555, -0.025557357096989815, 0.00798028498729703, -0.02403669364005114, 0.015781668500992163, -0.011628597646768424, 0.008318919453810775, 0.023397759805758648, 0.013507063119588348, -0.004712137726399029, 0.016011684681337457, -0.018695206785365917, 0.024266709820396436, -0.025122882089670923, 0.013149260172384552, 0.01059352483521459, -0.004574766719195506, -0.00629349919910358, 0.007143281198712593, -0.0006776692853079617, -0.02305273646656325, -0.018503525703755623, -0.010254889437378296, -0.027525273306610688, -0.0009591995351469199, -0.013481505766216647, 0.04227186992737156, 0.0036067819602423833, -0.01465714402131483, -0.004967711260116026, -0.00218036205876908, 0.013570956503017597, -0.008235858521014026, -0.004047646538734839, 0.014963832261775225, -0.01907856708594141, -0.031154417485392032, -0.009302877558621211, -0.16438491178793274, 0.020318097793146295, 0.01587111830647056, -0.03135887817501073, 0.010101545317148098, 0.006727974206422474, 0.0330967782042863, 7.262881785890282e-05, -0.001438399969073947, 0.02076535240847359, 0.013264268262557201, -0.006347808342187805, -0.03427241645938448, -0.03884718085027362, 0.008401981317930074, -0.011807499120370322, -0.01790292883084323, 0.004945348343085151, 0.02142984359613778, 0.014209890337310087, 0.01123245866950708, -0.031077745425276932, 0.010836319692245737, -0.014350455780854435, -0.00020136401304161495, -0.0013265865480727613, -0.012848960804605807, -2.3535730424612244e-05, -0.016906192049346944, -0.016101134486815858, -0.02315496588005005, -0.002573306366858961, -0.0007427606987803388, 0.02048422152138489, 0.022196564197288767, -0.011769163090312772, 0.0030381308477220666, 0.00348538453172681, 0.002399196780598939, 0.0008401981085099437, 0.002931109314062756, 0.014248226367367636, 0.0076288709127748855, 0.02256714675250096, 0.023704448046219045, 0.01812016540318013, 0.018426853643640523, 0.00562581310943729, 0.03506469255126207, -0.013494284442902496, 0.02732081447963709, -0.008427538671301773, 0.018605755117242422, 0.013724300623247794, 0.012305867511118465, 0.015040504321890325, 0.011583871812706675, -0.013468727089530797, -0.01054241012847119, -0.020675902602995188, 0.00430960941079476, -0.02798530566730128, -0.010516852775099492, -0.017660133042489534, -0.00798028498729703, -0.01575611114762046, 0.005737626763269114, 0.01667617586900165, -0.0332756778152431, 0.008363645287872524, -0.019040230124561314, 0.0065235153794488765, 0.03680259258053765, -0.015027725645204474, 0.0013449559540163296, 0.019053009732569712, -0.013008694728840205, 0.044750931341781326, 0.0024343381414850263, -0.0132898256159289, -0.0463099317601001, 0.01713620822969224, -0.019219131598163214, 0.00872144823507632, 0.002060561848423919, 0.02514843944304262, -0.01652283174877145, -0.0010662210105985715, 0.0011987997812142632, -0.02112315535567738, -0.002003057803337595, -0.013494284442902496, 0.011871392503799571, -0.0334034664447467, 0.0004077197112155548, 0.033122333695012905, -0.02269493351935946, -0.004446979952337008, -0.016011684681337457, 0.008804509167873068, 0.010178217377263196, -0.006785478251508798, -0.027678617426840885, 0.02318052323342175, 0.012523105014777911, 0.024356161488519934, 0.018324624230153727, 0.015449421975837518, 0.036214775315633656, -0.006194464221957607, -0.023065514211926555, 0.007948337829921132, 0.017033978816205442, 0.03877051065280362, 0.0037729047571584307, 0.022976064406448154, 0.010369897527550943, -0.0046226869895980805, 0.02507176738292752, -0.003338429749839537, 0.04078953970652279, -0.01008237683645805, 0.005216895455490096, 0.009865139332798603, 0.007092166491969193, 0.0038240194639018303, -0.08035232645120399, -0.029620976283090055, -0.004424617500967409, -0.0015701801306044327, -0.011833056473742021, 0.012983137375468504, -0.0011189330519277018, 0.029390960102744758, 0.006299888537446505, 0.009654291633143354, -0.023576661279360547, -0.022081557038438667, 0.005255231485547646, 0.0010670196196837778, 0.024062250993422837, -0.0012211624654145004, -0.004942153906744326, 0.004050840975075664, 0.006418091063959979, 0.008964243092107464, -0.006108208387158758, -0.017085093522948843, -0.039741690080928205, -0.005520389259609667, -0.00937316074605466, -0.004811172237883728, -0.03151222229524092, 0.008120850430841377, 0.019091344831304716, 0.008574492987527771, 0.00858088279153197, -0.012120576233512368, 0.024253932075033135, -0.017110650876320542, -0.023538326180625544, 0.002253839449712716, -0.01861853472525082, 0.0023097460437979905, 0.009552062219656557, 0.0029103440808635685, -0.007354129364029114, -0.0013737079765594917, 0.019768615626977303, -0.03378682488267709, 0.0075841455443744115, -0.016433380080647954, -0.022273236257403864, -0.012031125496711419, 0.02068868034835849, -0.027525273306610688, -0.003376765779897087, 0.016650618515629947, -0.007405244070772514, -0.0017299135891775553, 0.015743331539612063, -0.017660133042489534, -0.01056796748184289, 0.009730963693258453, -0.00366748067450017, -0.025058987774919123, -0.005686512056525714, -0.0007946740728166036, 0.005319124868976895, 0.021800426151349972, 0.020867581821960385, 0.014899938878345976, -0.013903202096849691, -0.04352417837993974, 0.020088081612800998, -0.004421422598965309, -0.004188211982279187, 0.01128357337625048, -0.0027314426072616712, 0.002236268652854354, -0.015704996440877063, 0.007079387815283344, -0.03585697236842986, -0.006919654356710221, -0.008120850430841377, -0.020854804076597084, 0.0014727427208748277, -0.0202414257330312, 0.008747005588448018, 0.01204390417339727, 0.01322593223249965, 0.028470895381363572, 0.00808890327346548, 0.0069771584017965455, -0.0006840586236508866, -0.027065240945920093, 0.022004884978323567, 0.0202414257330312, 0.017148985975055542, -0.019116902184676415, -0.0038208247947303675, 0.007724710987918759, -0.0028704105998049695, 0.006405312387274129, 0.036853707287281046, 0.00464824434296978, -0.005197727440461322, -0.018107387657816828, -0.07324738593916169, 0.022401023024262362, 0.01732788744865744, 0.00314674959955179, 0.02933984539600136, 0.0040252836217039645, -0.0014487827020888593, 0.008491432054731022, 0.016203363900302657, -0.0035460832459845966, -0.023308310000280247, -0.004475732207710807, -0.018605755117242422, -0.00732218267231449, -0.026272962991397406, -0.01795404353758663, 0.02388334951982094, -0.0024423249308290007, 0.007002715755168244, 0.010823541015559886, -0.010823541015559886, -0.00760970289774611, 0.022861055384952957, 0.02127649947590758, -0.010829929888241538, 0.00697076906345362, -0.006386144372245354, 0.020918696528703786, -0.020522556620119894, -0.007763047017976308, 0.018426853643640523, -0.01464436534462898, -0.0006393332552504122, 0.0400228191053718, -0.006456427094017528, -0.0019008283898507964, 0.013481505766216647, 0.00021783653323292562, 0.015181069765434672, 0.005814298823384212, -0.0037122060429006444, -0.021608745069739674, 0.02058645093487169, -0.018107387657816828, -0.0199475171005792, 0.0038687448323023042, -0.01396709548027894, -0.013762636653305344, 0.028215321847646576, -0.008203911363638128, 0.024662849728980328, 0.018158502364560226, -0.008791730491187219, -0.020190311026287797, 0.0060890403721299835, -0.05190699028585722, 0.03250895721409211, -0.003087648103464416, -0.0016276841756907568, -0.019461927386516906, 0.01201834682002557, 0.003526915230955822, 0.020752574663110285, -0.004440590613994083, 0.0053095410942931446, -0.018822993552224415, -0.035729183738926265, 0.010721311602073088, 0.01003126212971465, -0.034170187045897686, -0.0036994273662147945, -0.007884444446491883, 0.007149670537055518, 0.019679163958853805, 0.00928371000925371, -0.005015631064857325, -0.00017490816624139892, 0.013047030758897753, -0.011136618128701932, 0.03064327041795804, 0.016458937434019653, 0.015538872712638466, -0.05448828483904398, 0.011494421075905727, 0.01819683746329523, 0.02388334951982094, -0.012548662368149612, 0.0033320404114966125, 0.005846245515098837, 0.01463158666794313, -0.010861877045617436, 0.0027761679756621457, -0.019781393372340604, -0.00562900801143939, -0.022656596557979358, 0.009047304024904215, 0.0005886178530496162, -0.013890423420163842, 0.015986127327965758, 0.026477421818371, 0.012983137375468504, 0.004910207215029701, 0.006561851409506427, -0.021685417129854775, -0.00468338547102523, 0.00562900801143939, -0.011820277797056172, -0.010293225467435845, -0.0007415626687372108, 0.006149738853557133, 0.021365951144031076, 0.010785204985502337, 0.008612829017585321, 0.020088081612800998, -0.017545125883639434, 0.008491432054731022, -0.009168701919081063, -0.008830066521244767, -0.017506788922259337, 0.030771057184816538, 0.024777856887830428, 0.029186501275771163, 0.008427538671301773, -0.008331698130496626, 0.0028336720207484695, 0.01659950380888655, 0.010836319692245737, -0.01124523734619293, 0.012951190218092606, -0.019053009732569712, 0.0038623554939593795, 0.000818634091602572, -0.0028592293741201693, -0.005153002072060847, -0.013353718999358149, -0.005168975650748797, 0.0031499442687232524, 0.023640555594112343, -0.009123976085019313, 0.054181596598583584, -0.001126919724856358, -0.016727290575745048, -0.0008633594600030464, 0.0062264109136722316, 0.008561714310841921, 0.003568445930184834, 0.009897086490174501, -0.018810213944216017, -0.01654838910214315, -0.0025605276901731113, 0.002352874194028052, 0.004916596553372626, -0.004980489936801875, -0.01868242717735752, -0.002744221283947521, -0.03465577489731488, -0.010190996053949047, -0.009047304024904215, -0.008159186460898927, 0.031461107588497524, 0.0054181598461228685, 0.024701184827715328, -0.008925907062049916, -0.023487211473882146, -0.001963124555109633, 0.0011189330519277018, 0.0027298451562606215, -0.010261278310059947, -0.03680259258053765, 0.017609018335746136, 0.009155923242395211, -0.046795519611517296, -0.007890834250496082, 0.014976610938461076, -0.00533829288400567, -0.0010151063038551721, 0.0027410266147760588, 0.00930926736262541, 0.03066882777132974, -0.031001073365161835, 0.022324350964147265, -0.014516578577770481, -0.020394769853261396, 0.01651005214076305, -0.025749036315955015, -0.006881318326652672, -0.009884307813488652, -0.005996394733326935]\n"
     ]
    }
   ],
   "source": [
    "print (f\"Our embedding is {text_embedding}\")"
   ]
  },
  {
   "cell_type": "markdown",
   "id": "996b7d6f",
   "metadata": {},
   "source": [
    "<font color='green'>\n",
    "    We can determine how similar a word is to other words in our dataframe after we have a vector representing that word.\n",
    "    <br>\n",
    "By computing the cosine similarity of the word vector for our search term to each word embedding in our dataframe.\n",
    "    <font>"
   ]
  },
  {
   "cell_type": "code",
   "execution_count": 18,
   "id": "bbee3c4c",
   "metadata": {},
   "outputs": [
    {
     "name": "stdout",
     "output_type": "stream",
     "text": [
      "[-0.0034055178024402486, -0.019832508079084002, 0.010472126941037743, -0.016190586154939356, 0.00631905655247528, 0.008516989408102721, -0.025122882089670923, -0.014197111660624236, 0.0011077517098275833, -0.03307121898826951, -0.0011668530894996386, 0.003782488764672818, 0.0019183990702938399, 0.016842297734595148, -0.021621524677748073, 0.004792004222854953, 0.03268786055033911, -0.008191132686952277, 0.009385939422740509, -0.01575611114762046, -0.01596056997459406, 0.0027809598630040206, 0.0014703466607885716, -0.012401707120601064, 0.0045587936061688315, 0.009552062219656557, 0.024483948255378432, -0.013660407239818545, 0.011577482940025025, 0.0029918080283205424, 0.04779225825565868, -0.015027725645204474, -0.0043511398771931345, -0.0099226438435462, -0.017596240590382835, 0.004654633681312705, -0.010325171693489196, -0.006373365695559505, -0.006251968267043931, -0.018324624230153727, 0.014452685194341232, -0.008325309257814974, -0.015641102126125263, -0.018107387657816828, -0.015513315359266767, 0.023397759805758648, -0.0027538052914619082, -0.010242110760692445, -0.04201629639365456, 0.004153070388562463, 0.00436072411753816, 0.02206877743043027, -0.01468270137468653, 0.0016069188260762507, 0.001360130574373117, -0.007060219800254569, -0.006989937078482395, 0.02192821291820847, -0.0036067819602423833, 0.006079456131784958, 0.003964585140276815, 0.016203363900302657, -0.023525546572617146, 0.006881318326652672, -0.001141295736127939, -0.001578965412618295, -0.001570978739689639, -0.011660543872821776, 0.02329553039227185, 0.01819683746329523, 0.022132671745182065, 0.009794857076687702, 0.004440590613994083, 0.014286562397425186, 0.01654838910214315, 0.001091778363970271, -0.03171668112221452, -0.008427538671301773, -0.0049932686134877245, 0.0014775347246320215, 0.03194669543991472, -0.014772152111487477, -0.004038062298389815, 0.021391508497402775, 0.024241152467024737, 0.00595166936492646, -0.00149430667957454, 0.0019806951191373577, -0.0007068206706013862, -0.02399835854131614, -0.0003194669462500749, 0.002825685231404495, 0.01396709548027894, 0.005632202447780215, -0.024918423262697324, -0.014554914607828031, -0.0012251557436711693, 0.020842024468588686, 0.0038240194639018303, -0.036853707287281046, -0.013455948412844948, 0.011181343962763681, -0.026707437998716298, -0.0017602629463064486, -0.0199602948459425, 0.007890834250496082, 0.011072724745272683, -0.004063619651761514, 0.03227894289639191, -0.025046210029555822, -0.002733039825432084, 0.02048422152138489, 0.012286699030428415, -0.052137008328847614, -0.01674006832110835, -0.022107114391810366, 0.0017219269162488992, 0.01458047196119973, 0.0012571024353857938, -0.025110102481662525, 0.0014711453862890965, 0.023193300978785053, 0.028215321847646576, -0.013609292533075145, 0.02045866416801319, -0.01679118302785175, 0.0018545056868645908, -0.02849645273473527, -0.01195445343659632, -0.011673322549507625, 0.0397928047876716, 0.008989800445479165, -0.0004193003869621062, 0.010101545317148098, 0.008389202641244223, 0.01744289647015264, -0.03736485435471504, 0.01267005933100391, -0.005002852388171475, -0.019551377191995307, 0.005648176026468165, 0.01907856708594141, -0.017085093522948843, -0.01734066705666584, -0.01391598077353554, 0.02172375409123487, 0.04099399853349639, 0.024420053940626633, 0.012184469616941617, -0.009730963693258453, 0.022899392346333054, -0.024995095322812425, 0.022030442331695266, 0.0034598271783551106, 0.019883622785827403, 0.009622344475767456, -0.0015462201118184643, 0.008050567243407929, -0.005667344041496939, 0.004970905696456851, 0.012420875601291112, -0.01780069941735643, -0.012210026970313316, -0.012842571931924156, 0.004408643922279459, 0.02122538476916418, 0.01190333872985292, -0.009347603392682959, 0.00398375315530559, -0.011213290188817032, -0.0010422609918126031, 0.028547567441478672, -0.026068504164423807, 0.03455354548382808, 0.016931749402718646, 0.010631860865272139, 0.0052296741321759465, 0.009826803302741053, 0.008478653378045172, -0.008433927543983423, -0.024816193849210525, 0.019909180139199102, 0.01267644913500811, 0.0201136389661727, -0.018886886004331117, -0.00796750631061118, -0.0021643887129117675, -0.005347877124350694, 0.00791639160386778, -0.010037651933718849, 0.011628597646768424, 0.01401821018702234, 0.012216416774317515, 0.0052743995005764205, -0.6918887896879383, -0.009647901829139155, 0.004613102749253056, 0.00019337734011295882, 0.01725121538854234, 0.014695480051372379, 0.02711635565266349, -0.0001686186540341248, 0.006600187439563976, -0.020100861220809396, -0.005184948763775472, 0.021787646543341574, 0.012158912263569917, -0.006136960176871283, -0.009123976085019313, -0.020918696528703786, 0.02390890687319264, -0.009814024626055204, -0.01864409207862252, 0.00872783710775797, -0.02806197772741638, 0.013149260172384552, -0.01128996224893213, 0.00930926736262541, 0.0027090799230614342, -0.008516989408102721, 0.014848824171602578, -0.008114460626837178, -0.0009751728810042322, 0.035575839618696065, -0.03900052497050382, 0.014082103570451589, 0.020305320047782995, 0.021417065850774478, 0.04983684652539465, -0.009679848986515055, -0.023666112947484042, 0.016957306756090345, -0.024790636495838826, 0.031154417485392032, -0.01059991370789624, 0.0027074824720603845, 0.028317551261133375, -0.018989115417817917, -0.012785067421176558, 0.002646783757802598, 0.0329945487907995, -0.00736051870237204, 0.009865139332798603, -0.005859024191784686, 0.016216143508311055, -0.003042922735063942, 0.006542683394477652, -0.02369167030085574, -0.014465463871027083, -0.0063062778757894304, 0.036495904340077254, -0.015768888892983765, 0.0016188987772615758, 0.00860644014490367, -0.024598955414228532, 0.007775825694662159, -0.04303859052852255, -0.03386349880543729, 0.011488032203224077, 0.01188417118048542, 0.004945348343085151, 0.010331561497493395, 0.005335098447664844, -0.012459211631348662, 0.02369167030085574, 0.010906601948356636, -0.019806950725712303, -0.011392191662418928, 0.012241974127689216, 0.011858613827113722, 0.0039326384485621904, -0.007053830461911644, -0.009730963693258453, 0.003779294095501356, 0.0016628255365768437, 0.00930926736262541, 0.013468727089530797, -0.009628734279771655, 0.022784383324837856, -0.018107387657816828, -0.03192113994918812, -0.01003126212971465, -0.005239258372520971, -0.007092166491969193, 0.02926317333588626, 0.004456564192682033, -0.00038775302889391445, 0.007724710987918759, -0.008325309257814974, -0.003199461524465602, -0.024381718841891633, -0.013775415329991193, 0.00595486426692856, -0.006012368312014884, -0.003865550163130842, -0.009385939422740509, 0.006347808342187805, 0.008370034160554174, 0.009660680505825005, 0.008293362100439076, -0.03498802235379207, 0.016305593313789456, 0.03790156063816583, -0.0332501223245165, 0.0014791320592177526, -0.011123839452016082, -0.010574356354524542, -0.012222805646999166, 0.018235174424675326, -0.029467632162859858, 0.021557630362996277, -0.006261552507388956, 0.012900075511349206, -0.017596240590382835, 0.00074715333978727, 0.0034023231332687863, 0.01875909923747262, 0.008951464415421615, 0.004676996132682305, 0.012580608594202961, -0.011724437256251025, -0.021557630362996277, 0.005156196508401673, -0.0025892797127162735, 0.005545946612981367, 0.0031675148327509773, 0.0017922096380210732, -0.0026771332313468097, 0.04413755486086054, -0.0003126782742607172, 0.001979097900966945, -0.007788604371348008, 0.014273783720739336, -0.0266307659386012, -0.024190037760281335, -0.011379412985733079, -0.00860644014490367, 0.0266052085852295, -0.015768888892983765, -0.02880314097519567, -0.0266563232919729, -0.00796750631061118, -0.004478926644051633, -0.0012003971157999943, -4.679691714831258e-05, -0.004328777425823535, -0.02514843944304262, 0.018145722756551828, 0.025774593669326714, -0.018452410997012225, -0.006715195529736624, -0.0068046462665375725, 0.001500696017917465, -0.0007323780239730858, 0.015653881734133665, 0.020778132016481987, -0.00935399226536461, 0.0071943959054559916, 0.018337403838162125, -0.03716039552774145, -0.0032393950055242013, 0.002249047329540204, -0.006708806191393699, -0.01801793598969333, -0.00943066432547971, -0.0026771332313468097, 0.00431919318547851, 0.004363918553878985, -0.007724710987918759, -0.0011301143940278206, -0.006229605815674331, -0.02315496588005005, -0.004724916403084879, 0.003475800524212423, -0.0030860508852940034, 0.014069324893765738, -0.01755790362900274, 0.012235584323685017, 0.02711635565266349, 0.028138649787531476, -0.00039554002044743937, 0.043677522500169944, -0.015717774186240364, 0.0049836843731427, 0.004491705320737483, 0.016970084501453646, 0.007104945168655044, 0.0030972321109788035, -0.007379686717400814, -0.0029406933215771433, -0.006335029665501955, -0.002672341111174297, -0.009347603392682959, 0.02261826145924436, 0.029697648343205155, 0.014452685194341232, 0.008350866611186674, 0.010548799001152841, 0.0012083837887286505, -0.028956485095425866, 0.008197522490956476, 0.0017171349124917054, 0.03263674584359571, 0.02944207480948816, -0.0019647217732800455, -0.025774593669326714, -0.021698196737863173, 0.0002875202545354504, 0.018797436198852716, 0.016216143508311055, 0.013570956503017597, -0.00014615612914632204, -0.017187322936435642, 0.008095293077469678, 0.012382539571233564, -0.006581019424535201, 0.0010734089580267028, -0.0051306391550299734, 0.0030732722086081535, 0.019858065432455704, 0.007430801424144214, 0.03378682488267709, -0.003782488764672818, -0.007507473484259312, 0.009136754761705163, 0.0051657807487466975, -0.009500947512913157, 0.004942153906744326, 0.02206877743043027, 0.002563722359344574, 0.011130229256020282, -0.03066882777132974, 0.032534516430108906, -0.004421422598965309, 0.0003224619631502358, 0.016803962635860148, 0.018299066876782025, 0.0198452876870924, 0.01727677274191404, -0.014171554307252537, 0.015743331539612063, -0.000394941034529705, 0.0028592293741201693, 0.017647355297126233, -0.011270794699564629, 0.004846313831600452, -0.019040230124561314, 0.0011556717473995201, -0.0055267785979525915, -0.02461173502223693, 0.004504483997423332, 0.026809667412203097, 0.01801793598969333, 0.032560071920835515, 0.010395454880922644, 0.009571229769024057, -0.0015550053938323267, -0.004408643922279459, -0.0032777310355817505, 0.01135385563236138, 0.0025956690510591986, 0.004833535154914602, -0.007526641499288087, 0.010670196895329689, 0.019231911206171612, 0.005360655801036544, 0.00263879720128926, -0.020957033490083883, -0.006085845470127884, 0.0061816855452717576, -0.006836592958252197, 0.01602446242670076, -0.01721288028980734, -0.004954932583430175, -0.0008098487513810503, -0.025097324736299224, 0.014491021224398782, -0.00015274513431246333, -0.011673322549507625, -0.011449696173166527, -0.02403669364005114, 0.015717774186240364, -0.004475732207710807, 0.016458937434019653, 0.012395318247919413, 0.03210003956014492, -0.007922780476549431, 0.00012988329033014257, -0.018580197763870723, 0.01639504498191295, 0.01873354188410092, -0.01812016540318013, 0.013123702819012853, -0.008893959904674016, 0.01874632149210932, 0.0036099766294138457, -0.010849098368931586, 0.0035876139452136087, 0.025135659835034223, 0.0022809940212548284, -0.019628049252110407, -0.028240879201018275, 0.01658672420087815, 0.00036858501386513977, -0.013002304924836006, -0.016292815568426156, 0.002784154532175483, 0.0010606302813408529, 0.0026579652163180346, 0.014209890337310087, -0.021583187716367976, -0.017596240590382835, 0.03560139883471286, -0.024586177668865228, -0.005085913786629499, -0.021417065850774478, -0.005092303124972424, 0.001707550904977318, 0.05699290546947054, 0.0037760994263298935, -0.008516989408102721, 0.007590534882717336, 0.02121260702380088, 0.00199666846499467, -0.03350569585823349, 0.0002961059424856705, 0.01744289647015264, -0.00033783632308981363, -0.002370444758055777, 7.18800636338626e-05, 0.008791730491187219, 0.007277457303914016, 0.012452821827344463, -0.021902655564836768, -0.004303220072451835, -0.010401844684926843, -0.004619492087595981, -0.016867855087966847, 0.011698879902879324, 0.005839856176755912, 0.016292815568426156, 0.010114323993833947, 0.009028136475536713, 0.02195377027158017, 0.016650618515629947, 0.013404833706101548, 0.006092234808470809, -0.022746048226102857, -0.007545809514316861, 0.01870798453072922, -0.003677064682014557, -0.002646783757802598, -0.006868539649966822, -0.005283983740921445, 0.0099482011969179, -0.008810898971877267, 0.01066380709132549, 0.0007383679995657483, -0.004654633681312705, -0.011066335872591032, -0.0018257536643214289, -0.0032138376521525015, 0.0101207128665156, -0.017072313914940445, -0.009992926099657101, 0.019806950725712303, -0.016407822727276256, -0.018350181583525426, 0.01190333872985292, -0.00925815265588201, -0.011475253526538227, 0.0018992310552650652, 0.015500536682580918, 0.01652283174877145, -0.01054241012847119, 0.005814298823384212, -0.0031755016220949522, -0.023602218632732246, -0.008970631964789116, -0.01795404353758663, 0.004574766719195506, 0.004756863094799503, -0.010280446790749995, -0.011781941766998622, 0.004130707937192862, -0.029825435110063653, -0.023627775986103945, -0.016011684681337457, -0.0013697145818875045, -0.008753394461129669, -0.021340393790659377, 0.0076735962811753594, 0.0331478929110297, 0.0101207128665156, 0.010887434398989135, 0.011865002699795372, 0.0265540938784861, 0.025480685036874718, -0.008248637197699875, -0.011737215932936874, 0.004073203892106539, -0.00602834142504156, -0.024765079142467127, 0.008421148867297574, 0.030515483651099542, -0.03138443366573733, -0.012791457225180757, -0.002603655840403173, 0.014963832261775225, -0.010312393016803346, 0.016267258215054453, 0.0055076105829238164, -0.012938411541406757, -0.008996189318160815, 0.025582914450361514, 0.0036578966669857825, -0.0264518644649993, -0.005903749560185161, 0.017417339116780936, -0.01812016540318013, -0.002126052682854218, 0.001034274318883947, 0.007839719543752682, 0.00930926736262541, 0.011373024113051428, 0.008823677648563117, -0.034936907647048675, -0.0052296741321759465, 0.03350569585823349, 0.00801862101735458, -0.00037936702231882553, 0.008171965137584777, 0.013392055029415699, 0.02913538656902776, -0.00787805557381023, 0.009929032716227852, -0.015551651389324317, -0.016254478607046055, 0.008395591513925875, -0.03601031648866006, 0.006817424943223423, -0.0048495082679412774, 0.0025765010360304236, -0.009008967994846665, 0.009021746671532514, -0.0266052085852295, -0.006855760973280972, 0.0017331082583490177, 0.009794857076687702, 0.018184059717931925, -0.003718595381243569, -0.021787646543341574, -0.03475800431080168, -0.0037984621105301305, -0.009622344475767456, 0.002720261148746234, 0.0038911075165025417, -0.02872646891508057, -0.026324077698140803, 0.025519020135609718, 0.01003126212971465, -0.014899938878345976, -0.01812016540318013, -0.03181891053570132, 0.003031741509379142, 0.009092029858965962, -0.020075303867437697, 0.015692216832868665, -0.006513931139103852, 0.02058645093487169, 0.010408233557608493, -0.01071492179806889, -0.019973074453950898, -0.023091071565298254, -0.04454647251480773, -0.0076927642962041345, 0.03483467823356187, -0.0026020583894021234, 0.03061771306458634, -0.006120987063844608, 0.02397280118794444, 0.02192821291820847, -0.015602766096067715, -0.00925815265588201, 0.002547749013487262, -0.00794194895723948, -0.004680191034684405, 0.01800515824433003, 0.024688407082352027, 0.025710701217220012, 0.005239258372520971, 0.013136481495698703, -0.016970084501453646, 0.03207448406941832, 0.002423156915800226, -0.014299341074111035, -0.009008967994846665, -0.02549346278223802, -0.009890696686170302, 0.024688407082352027, -0.017698470003869635, -0.0004396664029301793, 0.01575611114762046, -0.009456221678851408, 0.03736485435471504, -0.011468863722534028, 0.004836729591255428, -0.01575611114762046, 0.022260458512040563, -0.0012507130970428688, 0.009641512956457505, -0.00317230695292349, -0.021787646543341574, -0.013494284442902496, -0.014222669013995937, 0.022912170091696354, -0.007162449213741367, 0.0071943959054559916, -0.0031850856296093398, 0.022119892137173667, -0.011066335872591032, -0.005363850237377369, 0.00029750359569627054, 0.05448828483904398, 0.0007639253529374479, -0.011526368233281625, 0.012369760894547714, -0.019806950725712303, -0.023487211473882146, -0.021174270062420782, -0.012925632864720905, -0.04055952538882259, 0.0018928417169221403, 0.01528329917892147, -0.016356708020532854, 0.014708258728058228, -8.291165925454758e-05, 0.0027186639305758213, 0.011226068865502882, 0.011545535782649127, 0.03797823083563583, -0.003078064095950029, 0.028982042448797565, 0.017736805102604634, -0.0198197303337207, -0.022183786451925466, 0.02857312479485037, 0.003514136554269972, -0.01200556814333972, 0.026528536525114402, 0.02433060413514823, 0.019525819838623608, -0.024816193849210525, 0.023384982060395347, 0.014951053585089375, 0.006204048462302631, -0.007034662446882869, 0.016561166847506453, 0.01537274991572242, 0.013034252082211904, -0.012286699030428415, -0.014823266818230877, -0.018247952170038627, 0.04150514932622057, -0.01587111830647056, 0.0017618602808921798, -0.010293225467435845, -0.04245076953832836, -0.010510462971095293, 0.01652283174877145, -0.007443580100830063, 0.01055518880515704, -0.007449969439172988, -0.010344340174179244, -0.023576661279360547, -0.00035101433342209627, -0.014439906517655383, 0.002749013171289396, -0.007903612927181931, 0.005903749560185161, -0.012165302067574116, 0.021583187716367976, -0.00798667385997868, 0.007494694807573463, 0.0017410949312776738, 0.014963832261775225, 0.02995322187692215, 0.021033705550198983, -0.022426580377634064, -0.002119663344511293, -0.010210163603316547, -0.004114734358504913, 0.0019822925701384075, 0.00795472763392533, -0.0056002557560655905, -0.024305046781776533, -0.0018305456680786224, -0.011187732835445332, 0.007181617228770142, 0.013468727089530797, -0.03491134843103188, 0.002003057803337595, -0.005868607966468437, -0.010037651933718849, -0.0400739338121152, -0.01060630351190044, -0.010823541015559886, -0.012286699030428415, -0.02926317333588626, 0.0200625242594293, -0.019704721312225504, 0.011174954158759482, -0.00787805557381023, -0.005529973034293417, -0.013954316803593091, 0.0046961641477110795, -0.02521233189514932, 0.025634029157104915, 0.017366224410037538, -0.004967711260116026, -0.016343930275169553, 0.006408507289276229, -0.007072998476940419, -0.012382539571233564, 0.009021746671532514, -0.01938525532640181, -0.017762362455976333, -0.00016622265215552798, 0.019794172980349002, 0.010203774730634897, -0.007507473484259312, -0.0010183009730266347, 0.02194099066357177, -0.00932204603931126, 0.0035301099001272844, -0.005606645094408516, -0.0011644570294133826, 0.013622071209760995, -0.01725121538854234, -0.022886612738324656, 0.008708669558390468, 0.009539283542970706, -0.013660407239818545, -0.0011692490331705763, 0.00595486426692856, 0.005293567515605196, -0.03524359588750907, -0.02531456130863612, -0.015181069765434672, 0.038106019465139425, -0.013468727089530797, -0.005197727440461322, -0.018260731778047025, -0.011136618128701932, -0.006520320477446777, 0.016267258215054453, -0.009187869468448562, -0.020254205341039597, -0.0014080506119450538, 0.02729525712626539, 0.010344340174179244, 0.012152523390888266, -0.011034388715215135, -0.017033978816205442, -0.02076535240847359, -0.009890696686170302, -0.03008100864378065, -0.012241974127689216, -0.015168291088748823, 0.015129955058691273, 0.02521233189514932, -0.007590534882717336, -0.013008694728840205, 0.009034525348218365, -0.029186501275771163, -0.01732788744865744, -0.010695754248701388, -0.0033799604490685493, -0.012963968894778456, -0.011871392503799571, 0.005699290733211564, 0.020151975927552798, -0.0031675148327509773, 0.01647171704202805, -0.035499169421226065, -0.01337927635272985, -0.001055838277583659, -0.014810488141545028, 0.03371015468520709, -0.015066061675262024, -0.008862013678620667, -0.015066061675262024, 0.014478242547712933, 0.006366976357216579, 0.008970631964789116, 0.00860644014490367, -0.0008298154337026906, 0.0061816855452717576, -0.03486023372428848, 0.031844466026427924, 0.013954316803593091, -0.006906875680024371, 0.02928873068925796, -0.01397987415696479, -0.01790292883084323, 0.004552404267825907, 0.01059352483521459, -0.005236063470518871, -0.012261141677056716, 0.005223284793833022, 0.002172375269425105, 0.009660680505825005, -0.023947243834572737, -0.004897428538343851, 0.007571366867688561, -0.034579104699844876, -0.010459348264351893, -0.01199917927065807, -0.004664217455996455, -0.010766036504812289, -0.027014126239176695, -0.02172375409123487, 0.003491773870069735, 0.010887434398989135, -0.028010863020672978, -0.010210163603316547, 0.03580585766168646, 0.014554914607828031, -0.021800426151349972, -0.01868242717735752, 0.02393446422656434, -0.02384501442108594, -0.008734226911762169, -0.00937316074605466, -0.024483948255378432, -0.0024087807881133265, 0.012350592413857664, 0.01396709548027894, -0.021455400949509477, 0.0011213289955986395, 0.026324077698140803, 0.0038847181781596165, 0.006398923048931204, -0.01126440489556043, 0.014209890337310087, -0.017519568530267735, -0.015768888892983765, -0.004894233636341751, -0.007149670537055518, -0.008203911363638128, -0.008197522490956476, 0.0133153829693006, 0.0006077858680783909, 0.009034525348218365, 0.2179531393561759, -0.0025142048707715876, 0.011724437256251025, 0.034400201363597886, 0.016331150667161155, 0.029620976283090055, 0.013673185916504394, -0.0014000639390163976, 0.014503799901084632, 0.018925222965711214, -0.0023672500888843144, 0.003386349787411474, -0.02057367132686329, 0.006900486341681446, -0.00932204603931126, -0.004488510884396658, -0.049887961232138046, -0.013040640954893554, -0.004095566343476138, -0.037339298863988436, 0.017609018335746136, -0.017813477162719735, -0.013392055029415699, 0.006836592958252197, 0.0199986318073226, -0.00567692781618069, -0.012318646187804315, -0.0018033909801211917, 0.004827145816571677, 0.007641649589460735, 0.006702416853050774, -0.011558314459334976, 0.009647901829139155, 0.004328777425823535, -0.01716176558306394, 0.0014088493374455786, -0.030183238057267445, -0.0061976591239597065, 0.03624033080636026, 0.03749264298421864, -0.020675902602995188, -0.006868539649966822, 0.01265728065431806, 0.0013297812172442238, -0.005533167936295516, 0.024279489428404834, -0.01593501262122236, -0.009149533438391012, 0.001266686442900181, 0.005763184116640813, -0.024880086301317227, 0.004951737681428076, 0.009398718099426358, 0.015641102126125263, -0.007239121273856466, 0.009897086490174501, -0.008433927543983423, -0.012523105014777911, -0.013149260172384552, 0.0013840905931590854, -0.004156265290564562, 0.009845971783431101, -0.01059352483521459, 0.010791593858183988, -0.00466102301965563, -0.007564977529345636, -0.032202268973631716, 0.005868607966468437, -0.014848824171602578, -0.016254478607046055, 0.0015390320479750144, -0.03215115426688832, 0.020854804076597084, 0.0015685827960187015, -0.02376834236097084, -0.026886339472318197, 0.022094334783801968, -0.0006417292571290091, 0.027525273306610688, 0.0100184834530288, -0.007794993709690933, 0.0011277183339415643, -0.015206627118806371, 0.009730963693258453, -0.02852201008810697, -0.006469205770703378, 0.006734363544765399, 0.004766446869483253, 0.006900486341681446, -0.01671451096773665, -0.005673733379839865, -0.017033978816205442, 0.00794194895723948, -0.0024678822842007005, 4.2054830096923e-05, 0.03841270770559982, -0.00634141900384488, 0.011443306369162328, 0.0006289505804431593, -0.015717774186240364, -0.03394016900290729, -0.026298520344769104, 0.006363781920875754, -0.018797436198852716, -0.024253932075033135, 0.009392328295422159, -0.004549209365823807, -0.002049380622739119, 0.016190586154939356, -0.018337403838162125, -0.024023915894687838, 0.0007838920352590882, 0.006386144372245354, -0.016982864109462044, 0.0015805627472040263, -0.0199219597472075, -0.0011149396572557146, -0.019116902184676415, -0.006114597725501682, -0.007481916130887612, 0.022452137731005763, -0.02536567601537952, -0.02521233189514932, 0.012216416774317515, -0.02788307625381448, 0.0013098145931302427, 0.005315930432636069, 0.0064244804023029034, 0.023065514211926555, -0.025557357096989815, 0.00798028498729703, -0.02403669364005114, 0.015781668500992163, -0.011628597646768424, 0.008318919453810775, 0.023397759805758648, 0.013507063119588348, -0.004712137726399029, 0.016011684681337457, -0.018695206785365917, 0.024266709820396436, -0.025122882089670923, 0.013149260172384552, 0.01059352483521459, -0.004574766719195506, -0.00629349919910358, 0.007143281198712593, -0.0006776692853079617, -0.02305273646656325, -0.018503525703755623, -0.010254889437378296, -0.027525273306610688, -0.0009591995351469199, -0.013481505766216647, 0.04227186992737156, 0.0036067819602423833, -0.01465714402131483, -0.004967711260116026, -0.00218036205876908, 0.013570956503017597, -0.008235858521014026, -0.004047646538734839, 0.014963832261775225, -0.01907856708594141, -0.031154417485392032, -0.009302877558621211, -0.16438491178793274, 0.020318097793146295, 0.01587111830647056, -0.03135887817501073, 0.010101545317148098, 0.006727974206422474, 0.0330967782042863, 7.262881785890282e-05, -0.001438399969073947, 0.02076535240847359, 0.013264268262557201, -0.006347808342187805, -0.03427241645938448, -0.03884718085027362, 0.008401981317930074, -0.011807499120370322, -0.01790292883084323, 0.004945348343085151, 0.02142984359613778, 0.014209890337310087, 0.01123245866950708, -0.031077745425276932, 0.010836319692245737, -0.014350455780854435, -0.00020136401304161495, -0.0013265865480727613, -0.012848960804605807, -2.3535730424612244e-05, -0.016906192049346944, -0.016101134486815858, -0.02315496588005005, -0.002573306366858961, -0.0007427606987803388, 0.02048422152138489, 0.022196564197288767, -0.011769163090312772, 0.0030381308477220666, 0.00348538453172681, 0.002399196780598939, 0.0008401981085099437, 0.002931109314062756, 0.014248226367367636, 0.0076288709127748855, 0.02256714675250096, 0.023704448046219045, 0.01812016540318013, 0.018426853643640523, 0.00562581310943729, 0.03506469255126207, -0.013494284442902496, 0.02732081447963709, -0.008427538671301773, 0.018605755117242422, 0.013724300623247794, 0.012305867511118465, 0.015040504321890325, 0.011583871812706675, -0.013468727089530797, -0.01054241012847119, -0.020675902602995188, 0.00430960941079476, -0.02798530566730128, -0.010516852775099492, -0.017660133042489534, -0.00798028498729703, -0.01575611114762046, 0.005737626763269114, 0.01667617586900165, -0.0332756778152431, 0.008363645287872524, -0.019040230124561314, 0.0065235153794488765, 0.03680259258053765, -0.015027725645204474, 0.0013449559540163296, 0.019053009732569712, -0.013008694728840205, 0.044750931341781326, 0.0024343381414850263, -0.0132898256159289, -0.0463099317601001, 0.01713620822969224, -0.019219131598163214, 0.00872144823507632, 0.002060561848423919, 0.02514843944304262, -0.01652283174877145, -0.0010662210105985715, 0.0011987997812142632, -0.02112315535567738, -0.002003057803337595, -0.013494284442902496, 0.011871392503799571, -0.0334034664447467, 0.0004077197112155548, 0.033122333695012905, -0.02269493351935946, -0.004446979952337008, -0.016011684681337457, 0.008804509167873068, 0.010178217377263196, -0.006785478251508798, -0.027678617426840885, 0.02318052323342175, 0.012523105014777911, 0.024356161488519934, 0.018324624230153727, 0.015449421975837518, 0.036214775315633656, -0.006194464221957607, -0.023065514211926555, 0.007948337829921132, 0.017033978816205442, 0.03877051065280362, 0.0037729047571584307, 0.022976064406448154, 0.010369897527550943, -0.0046226869895980805, 0.02507176738292752, -0.003338429749839537, 0.04078953970652279, -0.01008237683645805, 0.005216895455490096, 0.009865139332798603, 0.007092166491969193, 0.0038240194639018303, -0.08035232645120399, -0.029620976283090055, -0.004424617500967409, -0.0015701801306044327, -0.011833056473742021, 0.012983137375468504, -0.0011189330519277018, 0.029390960102744758, 0.006299888537446505, 0.009654291633143354, -0.023576661279360547, -0.022081557038438667, 0.005255231485547646, 0.0010670196196837778, 0.024062250993422837, -0.0012211624654145004, -0.004942153906744326, 0.004050840975075664, 0.006418091063959979, 0.008964243092107464, -0.006108208387158758, -0.017085093522948843, -0.039741690080928205, -0.005520389259609667, -0.00937316074605466, -0.004811172237883728, -0.03151222229524092, 0.008120850430841377, 0.019091344831304716, 0.008574492987527771, 0.00858088279153197, -0.012120576233512368, 0.024253932075033135, -0.017110650876320542, -0.023538326180625544, 0.002253839449712716, -0.01861853472525082, 0.0023097460437979905, 0.009552062219656557, 0.0029103440808635685, -0.007354129364029114, -0.0013737079765594917, 0.019768615626977303, -0.03378682488267709, 0.0075841455443744115, -0.016433380080647954, -0.022273236257403864, -0.012031125496711419, 0.02068868034835849, -0.027525273306610688, -0.003376765779897087, 0.016650618515629947, -0.007405244070772514, -0.0017299135891775553, 0.015743331539612063, -0.017660133042489534, -0.01056796748184289, 0.009730963693258453, -0.00366748067450017, -0.025058987774919123, -0.005686512056525714, -0.0007946740728166036, 0.005319124868976895, 0.021800426151349972, 0.020867581821960385, 0.014899938878345976, -0.013903202096849691, -0.04352417837993974, 0.020088081612800998, -0.004421422598965309, -0.004188211982279187, 0.01128357337625048, -0.0027314426072616712, 0.002236268652854354, -0.015704996440877063, 0.007079387815283344, -0.03585697236842986, -0.006919654356710221, -0.008120850430841377, -0.020854804076597084, 0.0014727427208748277, -0.0202414257330312, 0.008747005588448018, 0.01204390417339727, 0.01322593223249965, 0.028470895381363572, 0.00808890327346548, 0.0069771584017965455, -0.0006840586236508866, -0.027065240945920093, 0.022004884978323567, 0.0202414257330312, 0.017148985975055542, -0.019116902184676415, -0.0038208247947303675, 0.007724710987918759, -0.0028704105998049695, 0.006405312387274129, 0.036853707287281046, 0.00464824434296978, -0.005197727440461322, -0.018107387657816828, -0.07324738593916169, 0.022401023024262362, 0.01732788744865744, 0.00314674959955179, 0.02933984539600136, 0.0040252836217039645, -0.0014487827020888593, 0.008491432054731022, 0.016203363900302657, -0.0035460832459845966, -0.023308310000280247, -0.004475732207710807, -0.018605755117242422, -0.00732218267231449, -0.026272962991397406, -0.01795404353758663, 0.02388334951982094, -0.0024423249308290007, 0.007002715755168244, 0.010823541015559886, -0.010823541015559886, -0.00760970289774611, 0.022861055384952957, 0.02127649947590758, -0.010829929888241538, 0.00697076906345362, -0.006386144372245354, 0.020918696528703786, -0.020522556620119894, -0.007763047017976308, 0.018426853643640523, -0.01464436534462898, -0.0006393332552504122, 0.0400228191053718, -0.006456427094017528, -0.0019008283898507964, 0.013481505766216647, 0.00021783653323292562, 0.015181069765434672, 0.005814298823384212, -0.0037122060429006444, -0.021608745069739674, 0.02058645093487169, -0.018107387657816828, -0.0199475171005792, 0.0038687448323023042, -0.01396709548027894, -0.013762636653305344, 0.028215321847646576, -0.008203911363638128, 0.024662849728980328, 0.018158502364560226, -0.008791730491187219, -0.020190311026287797, 0.0060890403721299835, -0.05190699028585722, 0.03250895721409211, -0.003087648103464416, -0.0016276841756907568, -0.019461927386516906, 0.01201834682002557, 0.003526915230955822, 0.020752574663110285, -0.004440590613994083, 0.0053095410942931446, -0.018822993552224415, -0.035729183738926265, 0.010721311602073088, 0.01003126212971465, -0.034170187045897686, -0.0036994273662147945, -0.007884444446491883, 0.007149670537055518, 0.019679163958853805, 0.00928371000925371, -0.005015631064857325, -0.00017490816624139892, 0.013047030758897753, -0.011136618128701932, 0.03064327041795804, 0.016458937434019653, 0.015538872712638466, -0.05448828483904398, 0.011494421075905727, 0.01819683746329523, 0.02388334951982094, -0.012548662368149612, 0.0033320404114966125, 0.005846245515098837, 0.01463158666794313, -0.010861877045617436, 0.0027761679756621457, -0.019781393372340604, -0.00562900801143939, -0.022656596557979358, 0.009047304024904215, 0.0005886178530496162, -0.013890423420163842, 0.015986127327965758, 0.026477421818371, 0.012983137375468504, 0.004910207215029701, 0.006561851409506427, -0.021685417129854775, -0.00468338547102523, 0.00562900801143939, -0.011820277797056172, -0.010293225467435845, -0.0007415626687372108, 0.006149738853557133, 0.021365951144031076, 0.010785204985502337, 0.008612829017585321, 0.020088081612800998, -0.017545125883639434, 0.008491432054731022, -0.009168701919081063, -0.008830066521244767, -0.017506788922259337, 0.030771057184816538, 0.024777856887830428, 0.029186501275771163, 0.008427538671301773, -0.008331698130496626, 0.0028336720207484695, 0.01659950380888655, 0.010836319692245737, -0.01124523734619293, 0.012951190218092606, -0.019053009732569712, 0.0038623554939593795, 0.000818634091602572, -0.0028592293741201693, -0.005153002072060847, -0.013353718999358149, -0.005168975650748797, 0.0031499442687232524, 0.023640555594112343, -0.009123976085019313, 0.054181596598583584, -0.001126919724856358, -0.016727290575745048, -0.0008633594600030464, 0.0062264109136722316, 0.008561714310841921, 0.003568445930184834, 0.009897086490174501, -0.018810213944216017, -0.01654838910214315, -0.0025605276901731113, 0.002352874194028052, 0.004916596553372626, -0.004980489936801875, -0.01868242717735752, -0.002744221283947521, -0.03465577489731488, -0.010190996053949047, -0.009047304024904215, -0.008159186460898927, 0.031461107588497524, 0.0054181598461228685, 0.024701184827715328, -0.008925907062049916, -0.023487211473882146, -0.001963124555109633, 0.0011189330519277018, 0.0027298451562606215, -0.010261278310059947, -0.03680259258053765, 0.017609018335746136, 0.009155923242395211, -0.046795519611517296, -0.007890834250496082, 0.014976610938461076, -0.00533829288400567, -0.0010151063038551721, 0.0027410266147760588, 0.00930926736262541, 0.03066882777132974, -0.031001073365161835, 0.022324350964147265, -0.014516578577770481, -0.020394769853261396, 0.01651005214076305, -0.025749036315955015, -0.006881318326652672, -0.009884307813488652, -0.005996394733326935]\n"
     ]
    },
    {
     "data": {
      "text/html": [
       "<div>\n",
       "<style scoped>\n",
       "    .dataframe tbody tr th:only-of-type {\n",
       "        vertical-align: middle;\n",
       "    }\n",
       "\n",
       "    .dataframe tbody tr th {\n",
       "        vertical-align: top;\n",
       "    }\n",
       "\n",
       "    .dataframe thead th {\n",
       "        text-align: right;\n",
       "    }\n",
       "</style>\n",
       "<table border=\"1\" class=\"dataframe\">\n",
       "  <thead>\n",
       "    <tr style=\"text-align: right;\">\n",
       "      <th></th>\n",
       "      <th>Words</th>\n",
       "      <th>embedding</th>\n",
       "      <th>similarity score</th>\n",
       "    </tr>\n",
       "  </thead>\n",
       "  <tbody>\n",
       "    <tr>\n",
       "      <th>0</th>\n",
       "      <td>Elephant</td>\n",
       "      <td>[-0.017855134320424067, -0.008739002273680945,...</td>\n",
       "      <td>0.830493</td>\n",
       "    </tr>\n",
       "    <tr>\n",
       "      <th>1</th>\n",
       "      <td>Lion</td>\n",
       "      <td>[-0.001514446088710819, -0.010011047775235735,...</td>\n",
       "      <td>0.827275</td>\n",
       "    </tr>\n",
       "    <tr>\n",
       "      <th>2</th>\n",
       "      <td>Tiger</td>\n",
       "      <td>[-0.013417221828848814, -0.009594874215361255,...</td>\n",
       "      <td>0.852021</td>\n",
       "    </tr>\n",
       "    <tr>\n",
       "      <th>3</th>\n",
       "      <td>Dog</td>\n",
       "      <td>[-0.000993324388174965, -0.01511439587442286, ...</td>\n",
       "      <td>0.773110</td>\n",
       "    </tr>\n",
       "    <tr>\n",
       "      <th>4</th>\n",
       "      <td>Cricket</td>\n",
       "      <td>[0.003905495127549336, -0.007206682981601541, ...</td>\n",
       "      <td>0.817943</td>\n",
       "    </tr>\n",
       "    <tr>\n",
       "      <th>5</th>\n",
       "      <td>Footbal</td>\n",
       "      <td>[-0.011442505362835323, -0.008127146122306163,...</td>\n",
       "      <td>0.777473</td>\n",
       "    </tr>\n",
       "    <tr>\n",
       "      <th>6</th>\n",
       "      <td>Tennis</td>\n",
       "      <td>[-0.0229627046214536, 0.001620174408225852, 0....</td>\n",
       "      <td>0.805583</td>\n",
       "    </tr>\n",
       "    <tr>\n",
       "      <th>7</th>\n",
       "      <td>Basketball</td>\n",
       "      <td>[-0.012779986743709601, -0.013293189227440112,...</td>\n",
       "      <td>0.794297</td>\n",
       "    </tr>\n",
       "    <tr>\n",
       "      <th>8</th>\n",
       "      <td>Apple</td>\n",
       "      <td>[0.01447704940326135, -0.003934278727982006, -...</td>\n",
       "      <td>0.813942</td>\n",
       "    </tr>\n",
       "    <tr>\n",
       "      <th>9</th>\n",
       "      <td>Orange</td>\n",
       "      <td>[0.020745464248294754, -0.029286146214470166, ...</td>\n",
       "      <td>0.843932</td>\n",
       "    </tr>\n",
       "    <tr>\n",
       "      <th>10</th>\n",
       "      <td>Banana</td>\n",
       "      <td>[-0.01299976590369686, -0.019983216193919837, ...</td>\n",
       "      <td>0.898764</td>\n",
       "    </tr>\n",
       "  </tbody>\n",
       "</table>\n",
       "</div>"
      ],
      "text/plain": [
       "         Words                                          embedding  \\\n",
       "0     Elephant  [-0.017855134320424067, -0.008739002273680945,...   \n",
       "1         Lion  [-0.001514446088710819, -0.010011047775235735,...   \n",
       "2        Tiger  [-0.013417221828848814, -0.009594874215361255,...   \n",
       "3          Dog  [-0.000993324388174965, -0.01511439587442286, ...   \n",
       "4      Cricket  [0.003905495127549336, -0.007206682981601541, ...   \n",
       "5      Footbal  [-0.011442505362835323, -0.008127146122306163,...   \n",
       "6       Tennis  [-0.0229627046214536, 0.001620174408225852, 0....   \n",
       "7   Basketball  [-0.012779986743709601, -0.013293189227440112,...   \n",
       "8        Apple  [0.01447704940326135, -0.003934278727982006, -...   \n",
       "9       Orange  [0.020745464248294754, -0.029286146214470166, ...   \n",
       "10      Banana  [-0.01299976590369686, -0.019983216193919837, ...   \n",
       "\n",
       "    similarity score  \n",
       "0           0.830493  \n",
       "1           0.827275  \n",
       "2           0.852021  \n",
       "3           0.773110  \n",
       "4           0.817943  \n",
       "5           0.777473  \n",
       "6           0.805583  \n",
       "7           0.794297  \n",
       "8           0.813942  \n",
       "9           0.843932  \n",
       "10          0.898764  "
      ]
     },
     "execution_count": 18,
     "metadata": {},
     "output_type": "execute_result"
    }
   ],
   "source": [
    "from openai.embeddings_utils import cosine_similarity\n",
    "\n",
    "print(text_embedding)\n",
    "\n",
    "df[\"similarity score\"] = df['embedding'].apply(lambda x: cosine_similarity(x, text_embedding))\n",
    "\n",
    "df"
   ]
  },
  {
   "cell_type": "markdown",
   "id": "5c8afa78",
   "metadata": {},
   "source": [
    "<font color='green'>\n",
    "    Sorting by similarity values in dataframe reveals Banana, Orange, and Apple are closest to searched term, such as Mango.\n",
    "    <font>"
   ]
  },
  {
   "cell_type": "code",
   "execution_count": 19,
   "id": "52c059af",
   "metadata": {},
   "outputs": [
    {
     "data": {
      "text/html": [
       "<div>\n",
       "<style scoped>\n",
       "    .dataframe tbody tr th:only-of-type {\n",
       "        vertical-align: middle;\n",
       "    }\n",
       "\n",
       "    .dataframe tbody tr th {\n",
       "        vertical-align: top;\n",
       "    }\n",
       "\n",
       "    .dataframe thead th {\n",
       "        text-align: right;\n",
       "    }\n",
       "</style>\n",
       "<table border=\"1\" class=\"dataframe\">\n",
       "  <thead>\n",
       "    <tr style=\"text-align: right;\">\n",
       "      <th></th>\n",
       "      <th>Words</th>\n",
       "      <th>embedding</th>\n",
       "      <th>similarity score</th>\n",
       "    </tr>\n",
       "  </thead>\n",
       "  <tbody>\n",
       "    <tr>\n",
       "      <th>10</th>\n",
       "      <td>Banana</td>\n",
       "      <td>[-0.01299976590369686, -0.019983216193919837, ...</td>\n",
       "      <td>0.898764</td>\n",
       "    </tr>\n",
       "    <tr>\n",
       "      <th>2</th>\n",
       "      <td>Tiger</td>\n",
       "      <td>[-0.013417221828848814, -0.009594874215361255,...</td>\n",
       "      <td>0.852021</td>\n",
       "    </tr>\n",
       "    <tr>\n",
       "      <th>9</th>\n",
       "      <td>Orange</td>\n",
       "      <td>[0.020745464248294754, -0.029286146214470166, ...</td>\n",
       "      <td>0.843932</td>\n",
       "    </tr>\n",
       "    <tr>\n",
       "      <th>0</th>\n",
       "      <td>Elephant</td>\n",
       "      <td>[-0.017855134320424067, -0.008739002273680945,...</td>\n",
       "      <td>0.830493</td>\n",
       "    </tr>\n",
       "    <tr>\n",
       "      <th>1</th>\n",
       "      <td>Lion</td>\n",
       "      <td>[-0.001514446088710819, -0.010011047775235735,...</td>\n",
       "      <td>0.827275</td>\n",
       "    </tr>\n",
       "    <tr>\n",
       "      <th>4</th>\n",
       "      <td>Cricket</td>\n",
       "      <td>[0.003905495127549336, -0.007206682981601541, ...</td>\n",
       "      <td>0.817943</td>\n",
       "    </tr>\n",
       "    <tr>\n",
       "      <th>8</th>\n",
       "      <td>Apple</td>\n",
       "      <td>[0.01447704940326135, -0.003934278727982006, -...</td>\n",
       "      <td>0.813942</td>\n",
       "    </tr>\n",
       "    <tr>\n",
       "      <th>6</th>\n",
       "      <td>Tennis</td>\n",
       "      <td>[-0.0229627046214536, 0.001620174408225852, 0....</td>\n",
       "      <td>0.805583</td>\n",
       "    </tr>\n",
       "    <tr>\n",
       "      <th>7</th>\n",
       "      <td>Basketball</td>\n",
       "      <td>[-0.012779986743709601, -0.013293189227440112,...</td>\n",
       "      <td>0.794297</td>\n",
       "    </tr>\n",
       "    <tr>\n",
       "      <th>5</th>\n",
       "      <td>Footbal</td>\n",
       "      <td>[-0.011442505362835323, -0.008127146122306163,...</td>\n",
       "      <td>0.777473</td>\n",
       "    </tr>\n",
       "  </tbody>\n",
       "</table>\n",
       "</div>"
      ],
      "text/plain": [
       "         Words                                          embedding  \\\n",
       "10      Banana  [-0.01299976590369686, -0.019983216193919837, ...   \n",
       "2        Tiger  [-0.013417221828848814, -0.009594874215361255,...   \n",
       "9       Orange  [0.020745464248294754, -0.029286146214470166, ...   \n",
       "0     Elephant  [-0.017855134320424067, -0.008739002273680945,...   \n",
       "1         Lion  [-0.001514446088710819, -0.010011047775235735,...   \n",
       "4      Cricket  [0.003905495127549336, -0.007206682981601541, ...   \n",
       "8        Apple  [0.01447704940326135, -0.003934278727982006, -...   \n",
       "6       Tennis  [-0.0229627046214536, 0.001620174408225852, 0....   \n",
       "7   Basketball  [-0.012779986743709601, -0.013293189227440112,...   \n",
       "5      Footbal  [-0.011442505362835323, -0.008127146122306163,...   \n",
       "\n",
       "    similarity score  \n",
       "10          0.898764  \n",
       "2           0.852021  \n",
       "9           0.843932  \n",
       "0           0.830493  \n",
       "1           0.827275  \n",
       "4           0.817943  \n",
       "8           0.813942  \n",
       "6           0.805583  \n",
       "7           0.794297  \n",
       "5           0.777473  "
      ]
     },
     "execution_count": 19,
     "metadata": {},
     "output_type": "execute_result"
    }
   ],
   "source": [
    "df.sort_values(\"similarity score\", ascending=False).head(10)"
   ]
  },
  {
   "cell_type": "code",
   "execution_count": null,
   "id": "984df3c2",
   "metadata": {},
   "outputs": [],
   "source": []
  }
 ],
 "metadata": {
  "kernelspec": {
   "display_name": "Python 3 (ipykernel)",
   "language": "python",
   "name": "python3"
  },
  "language_info": {
   "codemirror_mode": {
    "name": "ipython",
    "version": 3
   },
   "file_extension": ".py",
   "mimetype": "text/x-python",
   "name": "python",
   "nbconvert_exporter": "python",
   "pygments_lexer": "ipython3",
   "version": "3.9.7"
  }
 },
 "nbformat": 4,
 "nbformat_minor": 5
}
